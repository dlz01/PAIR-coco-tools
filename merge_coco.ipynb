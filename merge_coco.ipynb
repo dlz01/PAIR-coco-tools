{
 "cells": [
  {
   "cell_type": "code",
   "execution_count": 1,
   "id": "a92660b2",
   "metadata": {},
   "outputs": [],
   "source": [
    "import sys\n",
    "import os\n",
    "import json\n",
    "import pathlib\n",
    "from pathlib import Path\n",
    "import shutil\n",
    "from tqdm import tqdm"
   ]
  },
  {
   "cell_type": "code",
   "execution_count": 2,
   "id": "29066358",
   "metadata": {},
   "outputs": [],
   "source": [
    "def copy_json_files(source_folder:pathlib.Path, target_folder:pathlib.Path):\n",
    "    # copy all json files from the source_folder to target_folder\n",
    "    target_folder.mkdir(parents=True, exist_ok=True)\n",
    "    for json_file in source_folder.rglob(\"*.json\"): # recursively find image paths\n",
    "        fname = os.path.basename(json_file.parent)\n",
    "        shutil.copy(json_file, target_folder.joinpath(fname + \".json\"))\n",
    "\n",
    "def copy_json_files_with_cat(detect_f, source_folder:pathlib.Path, target_folder:pathlib.Path):\n",
    "    # copy json from datasets that contains the given categories presented in detect_f\n",
    "    target_folder.mkdir(parents=True, exist_ok=True)\n",
    "    \n",
    "    cat_set = set()\n",
    "    \n",
    "    with open(detect_f) as file:\n",
    "        temp = file.readlines()\n",
    "    temp = [s.strip() for s in temp]\n",
    "                    \n",
    "    for json_file in source_folder.rglob(\"*.json\"): # recursively find image paths\n",
    "        with open(json_file) as f:\n",
    "            data = json.load(f)\n",
    "        for cat in data['categories']:\n",
    "            if cat['name'][6:] in temp:\n",
    "                fname = os.path.basename(json_file.parent)\n",
    "                cat_set.add(fname)\n",
    "                shutil.copy(json_file, target_folder.joinpath(fname + \".json\"))\n",
    "    return cat_set"
   ]
  },
  {
   "cell_type": "code",
   "execution_count": 3,
   "id": "146fdab5",
   "metadata": {},
   "outputs": [],
   "source": [
    "def remove_extra_cat(f):\n",
    "    # remove unused categories in the json file\n",
    "    id_set = set()\n",
    "    with open(f, 'r') as json_file:\n",
    "        data = json.load(json_file)\n",
    "    for x in data['annotations']:\n",
    "        id_set.add(x['category_id'])\n",
    "    orig_len = len(data['categories'])\n",
    "    data['categories'][:] = [x for x in data['categories'] if x['id'] in id_set]\n",
    "    os.remove(f)\n",
    "    with open(f, 'w') as f:\n",
    "        json.dump(data, f, indent=4)\n",
    "    return orig_len - len(data['categories'])\n",
    "\n",
    "def remove_extra_cat_dir(d):\n",
    "    # remove unused categories for all json file in the given directory\n",
    "    count = 0\n",
    "    for f in Path(d).rglob(\"*.json\"):\n",
    "            count += remove_extra_cat(f)\n",
    "    print(str(count) + \" unused categories removed\")"
   ]
  },
  {
   "cell_type": "code",
   "execution_count": 4,
   "id": "a97b08c9",
   "metadata": {},
   "outputs": [],
   "source": [
    "def build_dict(folder):\n",
    "    # build dictionaries to track all categories recorded in the json files\n",
    "    cat_dict = dict()\n",
    "    i = 0\n",
    "    for filename in os.listdir(folder):\n",
    "        with open(os.path.join(folder, filename), 'r') as f:\n",
    "            data = json.load(f)\n",
    "        for cat in data['categories']:\n",
    "            if cat[\"name\"] not in cat_dict:\n",
    "                cat_dict[cat[\"name\"]] = i\n",
    "                i += 1\n",
    "    return cat_dict"
   ]
  },
  {
   "cell_type": "code",
   "execution_count": 5,
   "id": "75705efe",
   "metadata": {},
   "outputs": [],
   "source": [
    "def change_ids(f, cat_dict):\n",
    "    # change ids associate with each bbox based on the given cat_dict(name: id)\n",
    "    id_dict = dict()\n",
    "    with open(f) as json_file:\n",
    "        data = json.load(json_file)\n",
    "    for cat in data['categories']:\n",
    "        id_dict[cat['id']] = cat_dict[cat['name']]\n",
    "    for ann in data['annotations']:\n",
    "        ann['category_id'] = id_dict[ann['category_id']]\n",
    "    os.remove(f)\n",
    "    with open(f, 'w') as f:\n",
    "        json.dump(data, f, indent=4)\n",
    "\n",
    "def change_ids_dir(d, cat_dict):\n",
    "    # change ids associate with each bbox based on the given cat_dict(name: id)\n",
    "    for f in Path(d).rglob(\"*.json\"):\n",
    "            change_ids(f, cat_dict)\n",
    "    print(\"ids changed\")"
   ]
  },
  {
   "cell_type": "code",
   "execution_count": 6,
   "id": "194a7687",
   "metadata": {},
   "outputs": [],
   "source": [
    "def sync_cat(f, cat_dict):\n",
    "    # replace the ['categories'] according to the cat_dict\n",
    "    with open(f) as json_file:\n",
    "        data = json.load(json_file)\n",
    "    data['categories'] = [{\"id\": v, \"name\": k} for (k, v) in cat_dict.items()]\n",
    "    os.remove(f)\n",
    "    with open(f, 'w') as f:\n",
    "        json.dump(data, f, indent=4)\n",
    "    \n",
    "def sync_cat_dir(d, cat_dict):\n",
    "    # replace the ['categories'] according to the cat_dict\n",
    "    for f in os.listdir(d):\n",
    "        if f.endswith(\".json\"):\n",
    "            sync_cat(os.path.join(d, f), cat_dict)\n",
    "    print(\"categories synced\")"
   ]
  },
  {
   "cell_type": "code",
   "execution_count": 7,
   "id": "cd07c9fe",
   "metadata": {},
   "outputs": [],
   "source": [
    "target = \"combined\""
   ]
  },
  {
   "cell_type": "code",
   "execution_count": 8,
   "id": "34e27314",
   "metadata": {},
   "outputs": [],
   "source": [
    "# move the datasets to target folder and clean the combined dataset.\n",
    "\n",
    "# # copy all jsons files under WeedCOCO folder to the target folder\n",
    "# copy_json_files(pathlib.Path('WeedCOCO'), pathlib.Path(target))\n",
    "\n",
    "# copy json from datasets that contains the given categories presented in detect_f\n",
    "cat_set = copy_json_files_with_cat(\"detect.txt\", pathlib.Path('WeedCOCO'), pathlib.Path(target))\n",
    "    "
   ]
  },
  {
   "cell_type": "code",
   "execution_count": 9,
   "id": "071604bb",
   "metadata": {
    "scrolled": true
   },
   "outputs": [
    {
     "name": "stdout",
     "output_type": "stream",
     "text": [
      "0 unused categories removed\n",
      "ids changed\n",
      "categories synced\n",
      "{'weed: lolium rigidum': 0, 'weed: rapistrum rugosum': 1, 'weed: daucus carota': 2, 'weed: lupinus cosentinii': 3, 'weed: sonchus oleraceus': 4, 'weed: amsinckia (rosette)': 5, 'weed: poaceae': 6, 'weed: trifolium incarnatum': 7, 'weed: erigeron canadensis': 8, 'weed: vigna unguiculata': 9, 'weed: helianthus annuus': 10, 'weed: chenopodium album': 11, 'weed: abutilon theophrasti': 12, 'weed: brassicaceae': 13}\n",
      "14\n"
     ]
    }
   ],
   "source": [
    "# remove unused categories in all json files under target folder\n",
    "remove_extra_cat_dir(target)\n",
    "\n",
    "# build categories dict and save it to cat_dict\n",
    "cat_dict = build_dict(target)\n",
    "\n",
    "# change ids associate with each bbox based on the given cat_dict(name: id)\n",
    "change_ids_dir(target, cat_dict)\n",
    "\n",
    "# replace the ['categories'] according to the cat_dict\n",
    "sync_cat_dir(target, cat_dict)\n",
    "\n",
    "print(cat_dict)\n",
    "print(len(cat_dict))"
   ]
  },
  {
   "cell_type": "code",
   "execution_count": 10,
   "id": "51386243",
   "metadata": {},
   "outputs": [],
   "source": [
    "# credit https://github.com/mohamadmansourX/Merge_COCO_FILES\n",
    "\n",
    "def combine(tt1,tt2,output_file):\n",
    "    \"\"\" Combine two COCO annoatated files and save them into new file\n",
    "    :param tt1: 1st COCO file path\n",
    "    :param tt2: 2nd COCO file path\n",
    "    :param output_file: output file path\n",
    "    \"\"\"\n",
    "    with open(tt1) as json_file:\n",
    "        d1 = json.load(json_file)\n",
    "    with open(tt2) as json_file:\n",
    "        d2 = json.load(json_file)\n",
    "    b1={}\n",
    "    for i,j in enumerate(d1['images']):\n",
    "        b1[d1['images'][i]['id']]=i\n",
    "\n",
    "    b2={}\n",
    "    for i,j in enumerate(d2['images']):\n",
    "        b2[d2['images'][i]['id']]=i+max(b1)+1\n",
    "        \n",
    "    #Reset File 1 and 2 images ids\n",
    "    for i,j in enumerate(d1['images']):\n",
    "        d1['images'][i]['id']= b1[d1['images'][i]['id']]\n",
    "    for i,j in enumerate(d2['images']):\n",
    "        d2['images'][i]['id']= b2[d2['images'][i]['id']]\n",
    "        \n",
    "    #Reset File 1 and 2 annotations ids\n",
    "    b3={}\n",
    "    for i,j in enumerate(d1['annotations']):\n",
    "        b3[d1['annotations'][i]['id']]=i\n",
    "    b4={}\n",
    "    for i,j in enumerate(d2['annotations']):\n",
    "        b4[d2['annotations'][i]['id']]=max(b3)+i+1\n",
    "\n",
    "    for i,j in enumerate(d1['annotations']):\n",
    "        d1['annotations'][i]['id']= b3[d1['annotations'][i]['id']]\n",
    "        d1['annotations'][i]['image_id']=b1[d1['annotations'][i]['image_id']]\n",
    "    for i,j in enumerate(d2['annotations']):\n",
    "        d2['annotations'][i]['id']= b4[d2['annotations'][i]['id']]\n",
    "        d2['annotations'][i]['image_id']=b2[d2['annotations'][i]['image_id']]\n",
    "\n",
    "    test=d1.copy()\n",
    "    for i in d2['images']:\n",
    "        test['images'].append(i)\n",
    "    for i in d2['annotations']:\n",
    "        test['annotations'].append(i)\n",
    "    test['categories']=d2['categories']\n",
    "    \n",
    "    \n",
    "    os.remove(output_file)\n",
    "    with open(output_file, 'w') as f:\n",
    "        json.dump(test,f)"
   ]
  },
  {
   "cell_type": "code",
   "execution_count": 11,
   "id": "0f3dd815",
   "metadata": {
    "scrolled": true
   },
   "outputs": [
    {
     "name": "stderr",
     "output_type": "stream",
     "text": [
      "100%|███████████████████████████████████████████| 10/10 [00:07<00:00,  1.36it/s]\n"
     ]
    },
    {
     "data": {
      "text/plain": [
       "'combined/weedcoco.json'"
      ]
     },
     "execution_count": 11,
     "metadata": {},
     "output_type": "execute_result"
    }
   ],
   "source": [
    "output_file = \"combined.json\"\n",
    "input_dir = target\n",
    "\n",
    "temp_file = os.path.join(input_dir, os.listdir(target)[0])\n",
    "shutil.move(temp_file, output_file)\n",
    "\n",
    "pbar = tqdm(total=len(os.listdir(input_dir)))\n",
    "for f in os.listdir(input_dir):\n",
    "    if f.endswith(\".json\"):\n",
    "        combine(output_file, os.path.join(input_dir, f), output_file)\n",
    "        os.remove(os.path.join(input_dir, f))\n",
    "        pbar.update(1)\n",
    "pbar.close()\n",
    "\n",
    "shutil.move(output_file, \"combined/weedcoco.json\")"
   ]
  },
  {
   "cell_type": "code",
   "execution_count": 22,
   "id": "fa02460a",
   "metadata": {},
   "outputs": [],
   "source": [
    "def format_filename(f):\n",
    "    with open(f, 'r') as json_file:\n",
    "        data = json.load(json_file)\n",
    "    count = 0\n",
    "    for x in data['images']:\n",
    "        if 'images/' not in x['file_name']:\n",
    "            x['file_name'] = 'images/' + x['file_name']\n",
    "            count += 1\n",
    "    os.remove(f)\n",
    "    with open(f, 'w') as f:\n",
    "        json.dump(data, f, indent=4)\n",
    "    print(str(count) + \" out of \" + str(len(data['images'])) + \" filename cleand\")\n"
   ]
  },
  {
   "cell_type": "code",
   "execution_count": 23,
   "id": "31b421de",
   "metadata": {},
   "outputs": [
    {
     "name": "stdout",
     "output_type": "stream",
     "text": [
      "0 out of 2780 filename cleand\n"
     ]
    }
   ],
   "source": [
    "format_filename('combined/weedcoco.json')"
   ]
  },
  {
   "cell_type": "code",
   "execution_count": null,
   "id": "aca4662e",
   "metadata": {},
   "outputs": [],
   "source": [
    "def move_files(source_folder:pathlib.Path, target_folder:pathlib.Path):\n",
    "    target_folder.mkdir(parents=True, exist_ok=True)\n",
    "    for image_file in source_folder.rglob(\"*.jpg\"): # recursively find image paths\n",
    "        image_file.rename(target_folder.joinpath(image_file.name))\n",
    "    for image_file in source_folder.rglob(\"*.JPG\"): # recursively find image paths\n",
    "        image_file.rename(target_folder.joinpath(image_file.name))\n",
    "    for image_file in source_folder.rglob(\"*.png\"): # recursively find image paths\n",
    "        image_file.rename(target_folder.joinpath(image_file.name))\n",
    "\n",
    "move_files(pathlib.Path('WeedCOCO'), pathlib.Path('combined/images'))"
   ]
  },
  {
   "cell_type": "code",
   "execution_count": 24,
   "id": "ecd6ce25",
   "metadata": {},
   "outputs": [],
   "source": [
    "def move_files_with_cat(source_folder:pathlib.Path, target_folder:pathlib.Path, cat_set):\n",
    "    target_folder.mkdir(parents=True, exist_ok=True)\n",
    "    for image_file in source_folder.rglob(\"*.jpg\"): # recursively find image paths\n",
    "        dname = os.path.basename(image_file.parent.parent)\n",
    "        if dname in cat_set:\n",
    "            shutil.copy(image_file, target_folder.joinpath(image_file.name))\n",
    "    for image_file in source_folder.rglob(\"*.JPG\"): # recursively find image paths\n",
    "        dname = os.path.basename(image_file.parent.parent)\n",
    "        if dname in cat_set:\n",
    "            shutil.copy(image_file, target_folder.joinpath(image_file.name))\n",
    "    for image_file in source_folder.rglob(\"*.png\"): # recursively find image paths\n",
    "        dname = os.path.basename(image_file.parent.parent)\n",
    "        if dname in cat_set:\n",
    "            shutil.copy(image_file, target_folder.joinpath(image_file.name))\n",
    "        \n",
    "move_files_with_cat(pathlib.Path('WeedCOCO'), pathlib.Path('combined/images'), cat_set)"
   ]
  },
  {
   "cell_type": "code",
   "execution_count": null,
   "id": "2401a7af",
   "metadata": {},
   "outputs": [],
   "source": []
  }
 ],
 "metadata": {
  "kernelspec": {
   "display_name": "Python 3 (ipykernel)",
   "language": "python",
   "name": "python3"
  },
  "language_info": {
   "codemirror_mode": {
    "name": "ipython",
    "version": 3
   },
   "file_extension": ".py",
   "mimetype": "text/x-python",
   "name": "python",
   "nbconvert_exporter": "python",
   "pygments_lexer": "ipython3",
   "version": "3.10.6"
  }
 },
 "nbformat": 4,
 "nbformat_minor": 5
}
