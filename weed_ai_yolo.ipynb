{
 "cells": [
  {
   "cell_type": "markdown",
   "metadata": {
    "id": "ajH__57r-aKt"
   },
   "source": [
    "# Train YOLOv5 (and v8 soon!) on Weed-AI Datasets\n",
    "\n",
    "This guide will take you through training a state-of-the-art object detection architecture - YOLOv5 - on Weed-AI datasets. It combines elements of the official Ultralytics guide, with elements of other custom training and conversion guides.\n",
    "\n",
    "**Steps:**\n",
    "1. Setup the project: creating folders, cloning YOLOv5\n",
    "2. Download the Weed-AI dataset\n",
    "3. Convert weedCOCO to YOLO annotation format\n",
    "4. Create YOLOv5 supporting files\n",
    "5. Train YOLOv5\n",
    "6. Inference on pictures/videos\n",
    "\n",
    "The tutorial requires you to have access to a Google Drive account and be able to upload images/data to specific folders. Algorithms will train fastest with a GPU. Select the GPU type under 'Runtime' > 'Change Runtime Type'. Make sure GPU is selected. Premium or High RAM will improve speed/size of models that can be trained.\n",
    "Make sure you run each cell in the tutorial by pressing the 'Play' button on the left hand side. Some options that may need changing are in capital letters.\n",
    "\n"
   ]
  },
  {
   "cell_type": "markdown",
   "metadata": {
    "id": "MQ5sO03S4QNc"
   },
   "source": [
    "# Create Project Folder\n",
    "\n",
    "To begin, create a project folder in your Google Drive. We'll call this one `weedai_yolo`. Replace this with whatever name you decide. \n",
    "\n",
    "It will be created in the root folder of your Google Drive. InTO this folder we'll be cloning the [YOLOv5 GitHub Repository](https://github.com/ultralytics/yolov5) and saving our data too. There are many guides on training YOLOv5 that are accessible through the official repository, make sure to check those for any tips/tricks on tuning your model."
   ]
  },
  {
   "cell_type": "code",
   "execution_count": 1,
   "metadata": {
    "scrolled": true
   },
   "outputs": [],
   "source": [
    "# print(os.getcwd())\n",
    "# %cd /home/zhou/Desktop/WeedX/working_dir/\n",
    "# print(os.getcwd())"
   ]
  },
  {
   "cell_type": "code",
   "execution_count": 2,
   "metadata": {
    "id": "1Fv8VN0rKEew"
   },
   "outputs": [
    {
     "name": "stdout",
     "output_type": "stream",
     "text": [
      " \u001b[0m\u001b[01;34mcombined\u001b[0m/    merge_coco.ipynb   \u001b[01;34mweedai_yolo\u001b[0m/         \u001b[01;34mWeedCOCO\u001b[0m/\r\n",
      " detect.txt   untitled.txt       weed_ai_yolo.ipynb  \u001b[01;34m'WeedCOCO (copy)'\u001b[0m/\r\n"
     ]
    }
   ],
   "source": [
    "YOUR_DIRECTORY = 'weedai_yolo'\n",
    "\n",
    "!mkdir {YOUR_DIRECTORY}\n",
    "%ls './' # should list everything in your Google Drive - double check that your project folder is there."
   ]
  },
  {
   "cell_type": "markdown",
   "metadata": {
    "id": "QaKbq-Iv5BAi"
   },
   "source": [
    "**(first time only)**\n",
    "\n",
    "Clone the YOLOv5 repository so we can use it to train our models. Only do this ONCE at the start of the project."
   ]
  },
  {
   "cell_type": "code",
   "execution_count": 3,
   "metadata": {
    "id": "EqBQG78rW-o4"
   },
   "outputs": [
    {
     "name": "stdout",
     "output_type": "stream",
     "text": [
      "/home/zhou/Desktop/WeedX/merge/weedai_yolo\n",
      "Cloning into 'ultralytics'...\n",
      "remote: Enumerating objects: 6450, done.\u001b[K\n",
      "remote: Counting objects: 100% (35/35), done.\u001b[K\n",
      "remote: Compressing objects: 100% (30/30), done.\u001b[K\n",
      "remote: Total 6450 (delta 10), reused 9 (delta 5), pack-reused 6415\u001b[K\n",
      "Receiving objects: 100% (6450/6450), 5.11 MiB | 15.52 MiB/s, done.\n",
      "Resolving deltas: 100% (4377/4377), done.\n"
     ]
    }
   ],
   "source": [
    "%cd {YOUR_DIRECTORY}\n",
    "!git clone https://github.com/ultralytics/ultralytics # clone the YOLOv5 repository. It is a large repository and may take some time depending on your internet speed."
   ]
  },
  {
   "cell_type": "markdown",
   "metadata": {
    "id": "KwTXpIk7yN6T"
   },
   "source": [
    "# Downloading a Weed-AI dataset\n",
    "\n",
    "For this example I've used the [Northern WA Wheatbelt Blue Lupins](https://weed-ai.sydney.edu.au/datasets/9df290f4-a29b-44b2-9de6-24bca1cee846) dataset but any of the other object detection datasets would work too, including the recrntly uploaded [Amsinckia in chickpeas](https://weed-ai.sydney.edu.au/datasets/21675efe-9d25-4096-be76-3a541475efd4) dataset. \n",
    "\n",
    "Download the dataset to a default place on your computer and unzip it. Rename it to something more memorable, in this case `blue_lupins`. Then, we'll create a folder called `datasets` in the `yolov5` directory and move the Weed-AI download (now called `blue_lupins`) to that folder. \n",
    "\n",
    "To summarise, the steps we will follow below are:\n",
    "1. Download the dataset on Weed-AI by clicking the button 'Download in WEEDCOCO format'\n",
    "2. Unzip the download and rename it to something memorable, in this case I've called it `blue_lupins`\n",
    "3. Create the `datasets` folder in the `yolov5` directory using the code below\n",
    "4. Move the Weed-AI download into the Google Drive `yolov5/datasets` folder. For me, this is now `'weedai_yolo/yolov5/datasets'`\n",
    "5. Convert the data from WeedCOCO to [YOLOv5 format](https://roboflow.com/formats/yolov5-pytorch-txt)\n",
    "\n",
    "Assuming you've downloaded the dataset, unzipped it and changed its name, I'll go through each of these other steps in more detail below."
   ]
  },
  {
   "cell_type": "code",
   "execution_count": 4,
   "metadata": {
    "id": "5oMTfghKpOrW"
   },
   "outputs": [],
   "source": [
    "YOUR_DATASET = 'combined' # this should match the memorable name of the Weed-AI download you just created."
   ]
  },
  {
   "cell_type": "markdown",
   "metadata": {
    "id": "wv16-Y3gzDmV"
   },
   "source": [
    "\n",
    "\n",
    "Create the dataset folder where you'll move the unzipped folder renamed to `blue_lupins` to."
   ]
  },
  {
   "cell_type": "code",
   "execution_count": 5,
   "metadata": {
    "id": "Or9RrDKE5grb",
    "scrolled": true
   },
   "outputs": [],
   "source": [
    "import os\n",
    "import shutil\n",
    "os.rename(\"ultralytics\", \"yolov8\")\n",
    "!mkdir yolov8/datasets\n",
    "\n"
   ]
  },
  {
   "cell_type": "code",
   "execution_count": 6,
   "metadata": {},
   "outputs": [
    {
     "data": {
      "text/plain": [
       "'yolov8/datasets/combined'"
      ]
     },
     "execution_count": 6,
     "metadata": {},
     "output_type": "execute_result"
    }
   ],
   "source": [
    "shutil.copytree(f\"../{YOUR_DATASET}\", f\"yolov8/datasets/{YOUR_DATASET}\")"
   ]
  },
  {
   "cell_type": "markdown",
   "metadata": {
    "id": "RsZVQqLu7ubB"
   },
   "source": [
    "Once the dataset has downloaded and is in the datasets folder, it should have a similar structure to the following:\n",
    "* yolov5/datasets\n",
    "    * blue_lupins\n",
    "        * images\n",
    "        * weedcoco.json\n"
   ]
  },
  {
   "cell_type": "markdown",
   "metadata": {
    "id": "IBzTasNQx3Va"
   },
   "source": [
    "# Convert weedCOCO to YOLO\n",
    "\n",
    "The first step in the process is converting the downloaded weedCOCO dataset into the YOLO .txt format. The method below is adapted from the official [Ultralytics GitHub repository](https://github.com/ultralytics/JSON2YOLO/blob/master/labelbox_json2yolo.py). Don't worry too much about the code, though certainly check it out, just run the cell by pressing 'Play' on the left side."
   ]
  },
  {
   "cell_type": "code",
   "execution_count": 7,
   "metadata": {
    "id": "AJT7joLkwvN-"
   },
   "outputs": [],
   "source": [
    "import os\n",
    "from pathlib import Path\n",
    "\n",
    "import yaml\n",
    "import shutil\n",
    "from tqdm import tqdm\n",
    "import contextlib\n",
    "import json\n",
    "\n",
    "import pandas as pd\n",
    "import numpy as np\n",
    "from PIL import Image\n",
    "from collections import defaultdict\n",
    "\n",
    "def make_dirs(dir='new_dir/'):\n",
    "    # Create folders\n",
    "    dir = Path(dir)\n",
    "    for p in dir, dir / 'labels', dir / 'images':\n",
    "        p.mkdir(parents=True, exist_ok=True)  # make dir\n",
    "    return dir\n",
    "\n",
    "\n",
    "def convert_weedcoco_json(json_dir='', yaml_dir=''):\n",
    "    save_dir = make_dirs(dir=f'{json_dir}')  # output directory\n",
    "    print()\n",
    "\n",
    "    # Import json\n",
    "    for json_file in sorted(Path(json_dir).resolve().glob('*.json')):\n",
    "        fn = Path(save_dir) # / 'labels' # folder name\n",
    "        fn.mkdir(exist_ok=True)\n",
    "        with open(json_file) as f:\n",
    "            data = json.load(f)\n",
    "\n",
    "        # Create image dict\n",
    "        images = {'%g' % x['id']: x for x in data['images']}\n",
    "        # Create image-annotations dict\n",
    "        imgToAnns = defaultdict(list)\n",
    "        for ann in data['annotations']:\n",
    "            imgToAnns[ann['image_id']].append(ann)\n",
    " \n",
    "\n",
    "        # Write labels file\n",
    "        for img_id, anns in tqdm(imgToAnns.items(), desc=f'Annotations {json_file}'):\n",
    "            # print(img_id, anns)\n",
    "            img = images['%g' % img_id]\n",
    "            h, w, f = img['height'], img['width'], img['file_name']\n",
    "\n",
    "            bboxes = []\n",
    "            segments = []\n",
    "            for ann in anns:\n",
    "                # The COCO box format is [top left x, top left y, width, height]\n",
    "                box = np.array(ann['bbox'], dtype=np.float64)\n",
    "                box[:2] += box[2:] / 2  # xy top-left corner to center\n",
    "                box[[0, 2]] /= w  # normalize x\n",
    "                box[[1, 3]] /= h  # normalize y\n",
    "                if box[2] <= 0 or box[3] <= 0:  # if w <= 0 and h <= 0\n",
    "                    continue\n",
    "\n",
    "                cls = ann['category_id']  # class\n",
    "                box = [cls] + box.tolist()\n",
    "                if box not in bboxes:\n",
    "                    bboxes.append(box)\n",
    "\n",
    "            # Write\n",
    "            with open((fn / f.replace('images', 'labels')).with_suffix('.txt'), 'a') as file:\n",
    "                for i in range(len(bboxes)):\n",
    "                    line = *(bboxes[i]),  # cls, box or segments\n",
    "                    file.write(('%g ' * len(line)).rstrip() % line + '\\n')\n",
    "\n",
    "    # Save dataset.yaml\n",
    "    names = [data['categories'][i]['name'].split(': ')[1] for i in range(len(data['categories']))]\n",
    "    d = {'path': yaml_dir,\n",
    "         'train': 'images/train',\n",
    "         'val': 'images/train',\n",
    "         'test': 'images/train',\n",
    "         'nc': len(names),\n",
    "         'names': names}  # dictionary\n",
    "\n",
    "    with open(f\"{save_dir}/weedcoco.yaml\", 'w') as f:\n",
    "        yaml.dump(d, f, sort_keys=False)\n",
    "\n",
    "\n",
    "    print('\\nweedCOCO to YOLO conversion completed successfully!')\n"
   ]
  },
  {
   "cell_type": "code",
   "execution_count": 8,
   "metadata": {
    "id": "O8rarUs3JGEr"
   },
   "outputs": [
    {
     "name": "stdout",
     "output_type": "stream",
     "text": [
      "/home/zhou/Desktop/WeedX/merge/weedai_yolo/yolov8/datasets/combined\n",
      "\n"
     ]
    },
    {
     "name": "stderr",
     "output_type": "stream",
     "text": [
      "Annotations /home/zhou/Desktop/WeedX/merge/weedai_yolo/yolov8/datasets/combined/"
     ]
    },
    {
     "name": "stdout",
     "output_type": "stream",
     "text": [
      "\n",
      "weedCOCO to YOLO conversion completed successfully!\n"
     ]
    },
    {
     "name": "stderr",
     "output_type": "stream",
     "text": [
      "\n"
     ]
    }
   ],
   "source": [
    "WEED_COCO_LOCATION = f\"yolov8/datasets/{YOUR_DATASET}\"\n",
    "YAML_LOCATION = os.path.join(os.getcwd(), f\"yolov8/datasets/{YOUR_DATASET}\")\n",
    "print(YAML_LOCATION)\n",
    "#convert the weedcoco file\n",
    "convert_weedcoco_json(json_dir=WEED_COCO_LOCATION, yaml_dir=YAML_LOCATION)"
   ]
  },
  {
   "cell_type": "markdown",
   "metadata": {
    "id": "ZgX1Xd81Z-F4"
   },
   "source": [
    "## Splitting the dataset into train/validation/test\n",
    "An algorithm needs a training portion and a validation portion to check as it learns. The test portion is left entirely unseen and can be used later for more appropriate results and to make sure the algorithm hasn't overfit. \n",
    "\n",
    "If you find the algorithm performs well on the training data but terribly on the val/test data, then it is likely overfitting. This is more common on small datasets and larger models when trained for many epochs."
   ]
  },
  {
   "cell_type": "code",
   "execution_count": 9,
   "metadata": {
    "id": "RrqzLzamZ93e"
   },
   "outputs": [
    {
     "name": "stdout",
     "output_type": "stream",
     "text": [
      "/home/zhou/Desktop/WeedX/merge/weedai_yolo/yolov8/datasets/combined\n"
     ]
    }
   ],
   "source": [
    "from sklearn.model_selection import train_test_split\n",
    "\n",
    "# Read images and annotations\n",
    "images = [os.path.join(f'{WEED_COCO_LOCATION}/images', x) for x in os.listdir(f'{WEED_COCO_LOCATION}/images')]\n",
    "annotations = [os.path.join(f'{WEED_COCO_LOCATION}/labels', x) for x in os.listdir(f'{WEED_COCO_LOCATION}/labels') if x[-3:] == \"txt\"]\n",
    "\n",
    "images.sort()\n",
    "annotations.sort()\n",
    "\n",
    "# Split the dataset into train-val-test splits 80-10-10%\n",
    "train_images, val_images, train_annotations, val_annotations = train_test_split(images, annotations, test_size = 0.2, random_state = 1)\n",
    "val_images, test_images, val_annotations, test_annotations = train_test_split(val_images, val_annotations, test_size = 0.5, random_state = 1)\n",
    "\n",
    "%cd {WEED_COCO_LOCATION}\n",
    "!mkdir images/train images/val images/test labels/train labels/val labels/test\n"
   ]
  },
  {
   "cell_type": "code",
   "execution_count": 10,
   "metadata": {},
   "outputs": [
    {
     "name": "stdout",
     "output_type": "stream",
     "text": [
      "/home/zhou/Desktop/WeedX/merge/weedai_yolo\n"
     ]
    }
   ],
   "source": [
    "%cd \"../../..\""
   ]
  },
  {
   "cell_type": "code",
   "execution_count": 11,
   "metadata": {
    "id": "kxpec1tmcyKq"
   },
   "outputs": [],
   "source": [
    "#Utility function to move images \n",
    "def move_files_to_folder(list_of_files, destination_folder):\n",
    "    for f in list_of_files:\n",
    "        try:\n",
    "            shutil.move(f, destination_folder)\n",
    "        except:\n",
    "            print(f)\n",
    "            assert False\n",
    "\n",
    "# Move the splits into their folders\n",
    "move_files_to_folder(train_images, 'yolov8/datasets/combined/images/train')\n",
    "move_files_to_folder(val_images, 'yolov8/datasets/combined/images/val/')\n",
    "move_files_to_folder(test_images, 'yolov8/datasets/combined/images/test/')\n",
    "move_files_to_folder(train_annotations, 'yolov8/datasets/combined/labels/train/')\n",
    "move_files_to_folder(val_annotations, 'yolov8/datasets/combined/labels/val/')\n",
    "move_files_to_folder(test_annotations, 'yolov8/datasets/combined/labels/test/')"
   ]
  },
  {
   "cell_type": "code",
   "execution_count": 12,
   "metadata": {
    "id": "slC0GAIMc7TC"
   },
   "outputs": [
    {
     "name": "stdout",
     "output_type": "stream",
     "text": [
      "/home/zhou/Desktop/WeedX/merge/weedai_yolo/yolov8/datasets/combined\n",
      "2224 2224\n",
      "278 278\n",
      "278 278\n"
     ]
    }
   ],
   "source": [
    "# Check the images have been moved\n",
    "%cd {WEED_COCO_LOCATION}\n",
    "print(len(os.listdir('images/train')), len(os.listdir('labels/train')))\n",
    "print(len(os.listdir('images/val')), len(os.listdir('labels/val')))\n",
    "print(len(os.listdir('images/test')), len(os.listdir('labels/test')))"
   ]
  },
  {
   "cell_type": "markdown",
   "metadata": {
    "id": "_i0acGTl0TNN"
   },
   "source": [
    "# Preparing for training\n",
    "Now we have all the splits made, we need to import some packages and install other YOLOv5 requirements before we can start training a model."
   ]
  },
  {
   "cell_type": "code",
   "execution_count": 13,
   "metadata": {
    "id": "_2IiPCt6JFb_",
    "scrolled": true
   },
   "outputs": [
    {
     "name": "stdout",
     "output_type": "stream",
     "text": [
      "torch 2.0.0+cu118 _CudaDeviceProperties(name='NVIDIA GeForce RTX 4090', major=8, minor=9, total_memory=24183MB, multi_processor_count=128)\n"
     ]
    }
   ],
   "source": [
    "# import necessary packages\n",
    "import torch\n",
    "from IPython.display import Image  # for displaying images\n",
    "import os \n",
    "import random\n",
    "import shutil\n",
    "from sklearn.model_selection import train_test_split\n",
    "import xml.etree.ElementTree as ET\n",
    "from xml.dom import minidom\n",
    "from tqdm import tqdm\n",
    "from PIL import Image, ImageDraw\n",
    "import numpy as np\n",
    "import matplotlib.pyplot as plt\n",
    "\n",
    "random.seed(0)\n",
    "\n",
    "print('torch %s %s' % (torch.__version__, torch.cuda.get_device_properties(0) if torch.cuda.is_available() else 'CPU'))"
   ]
  },
  {
   "cell_type": "code",
   "execution_count": 14,
   "metadata": {
    "id": "y2e4sDVtI_I3"
   },
   "outputs": [
    {
     "name": "stdout",
     "output_type": "stream",
     "text": [
      "/home/zhou/Desktop/WeedX/merge/weedai_yolo/yolov8\n",
      "Defaulting to user installation because normal site-packages is not writeable\n",
      "Requirement already satisfied: matplotlib>=3.2.2 in /home/zhou/.local/lib/python3.10/site-packages (from -r requirements.txt (line 5)) (3.7.1)\n",
      "Requirement already satisfied: numpy>=1.21.6 in /home/zhou/.local/lib/python3.10/site-packages (from -r requirements.txt (line 6)) (1.24.1)\n",
      "Requirement already satisfied: opencv-python>=4.6.0 in /usr/local/lib/python3.10/dist-packages (from -r requirements.txt (line 7)) (4.7.0.72)\n",
      "Requirement already satisfied: Pillow>=7.1.2 in /home/zhou/.local/lib/python3.10/site-packages (from -r requirements.txt (line 8)) (9.5.0)\n",
      "Requirement already satisfied: PyYAML>=5.3.1 in /usr/lib/python3/dist-packages (from -r requirements.txt (line 9)) (5.4.1)\n",
      "Requirement already satisfied: requests>=2.23.0 in /home/zhou/.local/lib/python3.10/site-packages (from -r requirements.txt (line 10)) (2.28.2)\n",
      "Requirement already satisfied: scipy>=1.4.1 in /usr/local/lib/python3.10/dist-packages (from -r requirements.txt (line 11)) (1.10.1)\n",
      "Requirement already satisfied: torch>=1.7.0 in /home/zhou/.local/lib/python3.10/site-packages (from -r requirements.txt (line 12)) (2.0.0+cu118)\n",
      "Requirement already satisfied: torchvision>=0.8.1 in /home/zhou/.local/lib/python3.10/site-packages (from -r requirements.txt (line 13)) (0.15.1+cu118)\n",
      "Requirement already satisfied: tqdm>=4.64.0 in /home/zhou/.local/lib/python3.10/site-packages (from -r requirements.txt (line 14)) (4.65.0)\n",
      "Requirement already satisfied: pandas>=1.1.4 in /home/zhou/.local/lib/python3.10/site-packages (from -r requirements.txt (line 22)) (1.5.3)\n",
      "Requirement already satisfied: seaborn>=0.11.0 in /home/zhou/.local/lib/python3.10/site-packages (from -r requirements.txt (line 23)) (0.12.2)\n",
      "Requirement already satisfied: psutil in /home/zhou/.local/lib/python3.10/site-packages (from -r requirements.txt (line 38)) (5.9.4)\n",
      "Requirement already satisfied: thop>=0.1.1 in /home/zhou/.local/lib/python3.10/site-packages (from -r requirements.txt (line 39)) (0.1.1.post2209072238)\n",
      "Requirement already satisfied: fonttools>=4.22.0 in /home/zhou/.local/lib/python3.10/site-packages (from matplotlib>=3.2.2->-r requirements.txt (line 5)) (4.39.0)\n",
      "Requirement already satisfied: cycler>=0.10 in /home/zhou/.local/lib/python3.10/site-packages (from matplotlib>=3.2.2->-r requirements.txt (line 5)) (0.10.0)\n",
      "Requirement already satisfied: pyparsing>=2.3.1 in /usr/lib/python3/dist-packages (from matplotlib>=3.2.2->-r requirements.txt (line 5)) (2.4.7)\n",
      "Requirement already satisfied: contourpy>=1.0.1 in /home/zhou/.local/lib/python3.10/site-packages (from matplotlib>=3.2.2->-r requirements.txt (line 5)) (1.0.7)\n",
      "Requirement already satisfied: kiwisolver>=1.0.1 in /home/zhou/.local/lib/python3.10/site-packages (from matplotlib>=3.2.2->-r requirements.txt (line 5)) (1.4.4)\n",
      "Requirement already satisfied: python-dateutil>=2.7 in /home/zhou/.local/lib/python3.10/site-packages (from matplotlib>=3.2.2->-r requirements.txt (line 5)) (2.8.2)\n",
      "Requirement already satisfied: packaging>=20.0 in /usr/local/lib/python3.10/dist-packages (from matplotlib>=3.2.2->-r requirements.txt (line 5)) (23.0)\n",
      "Requirement already satisfied: idna<4,>=2.5 in /home/zhou/.local/lib/python3.10/site-packages (from requests>=2.23.0->-r requirements.txt (line 10)) (2.10)\n",
      "Requirement already satisfied: certifi>=2017.4.17 in /home/zhou/.local/lib/python3.10/site-packages (from requests>=2.23.0->-r requirements.txt (line 10)) (2022.12.7)\n",
      "Requirement already satisfied: charset-normalizer<4,>=2 in /home/zhou/.local/lib/python3.10/site-packages (from requests>=2.23.0->-r requirements.txt (line 10)) (3.1.0)\n",
      "Requirement already satisfied: urllib3<1.27,>=1.21.1 in /home/zhou/.local/lib/python3.10/site-packages (from requests>=2.23.0->-r requirements.txt (line 10)) (1.26.15)\n",
      "Requirement already satisfied: triton==2.0.0 in /home/zhou/.local/lib/python3.10/site-packages (from torch>=1.7.0->-r requirements.txt (line 12)) (2.0.0)\n",
      "Requirement already satisfied: networkx in /home/zhou/.local/lib/python3.10/site-packages (from torch>=1.7.0->-r requirements.txt (line 12)) (3.0rc1)\n",
      "Requirement already satisfied: filelock in /home/zhou/.local/lib/python3.10/site-packages (from torch>=1.7.0->-r requirements.txt (line 12)) (3.9.0)\n",
      "Requirement already satisfied: jinja2 in /home/zhou/.local/lib/python3.10/site-packages (from torch>=1.7.0->-r requirements.txt (line 12)) (3.1.2)\n",
      "Requirement already satisfied: sympy in /home/zhou/.local/lib/python3.10/site-packages (from torch>=1.7.0->-r requirements.txt (line 12)) (1.11.1)\n",
      "Requirement already satisfied: typing-extensions in /home/zhou/.local/lib/python3.10/site-packages (from torch>=1.7.0->-r requirements.txt (line 12)) (4.4.0)\n",
      "Requirement already satisfied: cmake in /home/zhou/.local/lib/python3.10/site-packages (from triton==2.0.0->torch>=1.7.0->-r requirements.txt (line 12)) (3.25.0)\n",
      "Requirement already satisfied: lit in /home/zhou/.local/lib/python3.10/site-packages (from triton==2.0.0->torch>=1.7.0->-r requirements.txt (line 12)) (15.0.7)\n",
      "Requirement already satisfied: pytz>=2020.1 in /usr/lib/python3/dist-packages (from pandas>=1.1.4->-r requirements.txt (line 22)) (2022.1)\n",
      "Requirement already satisfied: six in /usr/lib/python3/dist-packages (from cycler>=0.10->matplotlib>=3.2.2->-r requirements.txt (line 5)) (1.16.0)\n",
      "Requirement already satisfied: MarkupSafe>=2.0 in /home/zhou/.local/lib/python3.10/site-packages (from jinja2->torch>=1.7.0->-r requirements.txt (line 12)) (2.1.2)\n",
      "Requirement already satisfied: mpmath>=0.19 in /home/zhou/.local/lib/python3.10/site-packages (from sympy->torch>=1.7.0->-r requirements.txt (line 12)) (1.2.1)\n"
     ]
    }
   ],
   "source": [
    "%cd \"../..\"\n",
    "!pip install -r requirements.txt"
   ]
  },
  {
   "cell_type": "code",
   "execution_count": 15,
   "metadata": {},
   "outputs": [],
   "source": [
    "# Weights & Biases  (optional) - this will let you track and visualise the training process with a WandB account; however, it isn't necessary \n",
    "# %pip install -q wandb\n",
    "# import wandb\n",
    "# wandb.login()"
   ]
  },
  {
   "cell_type": "markdown",
   "metadata": {
    "id": "QlS2qYfF5bt8"
   },
   "source": [
    "# YOLOv5 Training\n",
    "\n",
    "Now we get to train a model! Change the name of your run to whatever you like, and try playing around with things like image size, batch size, epochs and YOLOv5 variant. Larger variants and larger images will probably do better, but require more memory. So if you run out of memory, just reduce image size or model variant size (choose M instead of X) and then try again.\n",
    "\n",
    "Information on selecting batch size: https://twitter.com/rasbt/status/1617544195220312066\n"
   ]
  },
  {
   "cell_type": "code",
   "execution_count": null,
   "metadata": {
    "colab": {
     "background_save": true
    },
    "id": "yeIX7cSDhfIJ"
   },
   "outputs": [
    {
     "name": "stdout",
     "output_type": "stream",
     "text": [
      "Downloading https://github.com/ultralytics/assets/releases/download/v0.0.0/yolov8m.pt to yolov8m.pt...\n",
      "100%|██████████████████████████████████████| 49.7M/49.7M [00:01<00:00, 26.4MB/s]\n",
      "New https://pypi.org/project/ultralytics/8.0.73 available 😃 Update with 'pip install -U ultralytics'\n",
      "Ultralytics YOLOv8.0.58 🚀 Python-3.10.6 torch-2.0.0+cu118 CUDA:0 (NVIDIA GeForce RTX 4090, 24184MiB)\n",
      "\u001b[34m\u001b[1myolo/engine/trainer: \u001b[0mtask=detect, mode=train, model=yolov8m.pt, data=datasets/combined/weedcoco.yaml, epochs=30, patience=50, batch=16, imgsz=640, save=True, save_period=-1, cache=False, device=None, workers=16, project=None, name=combined_TRAIN_B16_E30_SZ640_Mm, exist_ok=False, pretrained=False, optimizer=SGD, verbose=True, seed=0, deterministic=True, single_cls=False, image_weights=False, rect=False, cos_lr=False, close_mosaic=10, resume=False, amp=True, overlap_mask=True, mask_ratio=4, dropout=0.0, val=True, split=val, save_json=False, save_hybrid=False, conf=None, iou=0.7, max_det=300, half=False, dnn=False, plots=True, source=None, show=False, save_txt=False, save_conf=False, save_crop=False, hide_labels=False, hide_conf=False, vid_stride=1, line_thickness=3, visualize=False, augment=False, agnostic_nms=False, classes=None, retina_masks=False, boxes=True, format=torchscript, keras=False, optimize=False, int8=False, dynamic=False, simplify=False, opset=None, workspace=4, nms=False, lr0=0.01, lrf=0.01, momentum=0.937, weight_decay=0.0005, warmup_epochs=3.0, warmup_momentum=0.8, warmup_bias_lr=0.1, box=7.5, cls=0.5, dfl=1.5, fl_gamma=0.0, label_smoothing=0.0, nbs=64, hsv_h=0.015, hsv_s=0.7, hsv_v=0.4, degrees=0.0, translate=0.1, scale=0.5, shear=0.0, perspective=0.0, flipud=0.0, fliplr=0.5, mosaic=1.0, mixup=0.0, copy_paste=0.0, cfg=None, v5loader=False, tracker=botsort.yaml, save_dir=runs/detect/combined_TRAIN_B16_E30_SZ640_Mm\n",
      "2023-04-11 06:39:25.070494: I tensorflow/core/platform/cpu_feature_guard.cc:193] This TensorFlow binary is optimized with oneAPI Deep Neural Network Library (oneDNN) to use the following CPU instructions in performance-critical operations:  AVX2 AVX_VNNI FMA\n",
      "To enable them in other operations, rebuild TensorFlow with the appropriate compiler flags.\n",
      "2023-04-11 06:39:25.353593: I tensorflow/core/util/port.cc:104] oneDNN custom operations are on. You may see slightly different numerical results due to floating-point round-off errors from different computation orders. To turn them off, set the environment variable `TF_ENABLE_ONEDNN_OPTS=0`.\n",
      "2023-04-11 06:39:26.130494: W tensorflow/compiler/xla/stream_executor/platform/default/dso_loader.cc:64] Could not load dynamic library 'libnvinfer.so.7'; dlerror: libnvinfer.so.7: cannot open shared object file: No such file or directory; LD_LIBRARY_PATH: /usr/local/lib/python3.10/dist-packages/cv2/../../lib64:\n",
      "2023-04-11 06:39:26.130530: W tensorflow/compiler/xla/stream_executor/platform/default/dso_loader.cc:64] Could not load dynamic library 'libnvinfer_plugin.so.7'; dlerror: libnvinfer_plugin.so.7: cannot open shared object file: No such file or directory; LD_LIBRARY_PATH: /usr/local/lib/python3.10/dist-packages/cv2/../../lib64:\n",
      "2023-04-11 06:39:26.130533: W tensorflow/compiler/tf2tensorrt/utils/py_utils.cc:38] TF-TRT Warning: Cannot dlopen some TensorRT libraries. If you would like to use Nvidia GPU with TensorRT, please make sure the missing libraries mentioned above are installed properly.\n",
      "Overriding model.yaml nc=80 with nc=30\n",
      "\n",
      "                   from  n    params  module                                       arguments                     \n",
      "  0                  -1  1      1392  ultralytics.nn.modules.Conv                  [3, 48, 3, 2]                 \n",
      "  1                  -1  1     41664  ultralytics.nn.modules.Conv                  [48, 96, 3, 2]                \n",
      "  2                  -1  2    111360  ultralytics.nn.modules.C2f                   [96, 96, 2, True]             \n",
      "  3                  -1  1    166272  ultralytics.nn.modules.Conv                  [96, 192, 3, 2]               \n",
      "  4                  -1  4    813312  ultralytics.nn.modules.C2f                   [192, 192, 4, True]           \n",
      "  5                  -1  1    664320  ultralytics.nn.modules.Conv                  [192, 384, 3, 2]              \n",
      "  6                  -1  4   3248640  ultralytics.nn.modules.C2f                   [384, 384, 4, True]           \n",
      "  7                  -1  1   1991808  ultralytics.nn.modules.Conv                  [384, 576, 3, 2]              \n",
      "  8                  -1  2   3985920  ultralytics.nn.modules.C2f                   [576, 576, 2, True]           \n",
      "  9                  -1  1    831168  ultralytics.nn.modules.SPPF                  [576, 576, 5]                 \n",
      " 10                  -1  1         0  torch.nn.modules.upsampling.Upsample         [None, 2, 'nearest']          \n",
      " 11             [-1, 6]  1         0  ultralytics.nn.modules.Concat                [1]                           \n",
      " 12                  -1  2   1993728  ultralytics.nn.modules.C2f                   [960, 384, 2]                 \n",
      " 13                  -1  1         0  torch.nn.modules.upsampling.Upsample         [None, 2, 'nearest']          \n",
      " 14             [-1, 4]  1         0  ultralytics.nn.modules.Concat                [1]                           \n",
      " 15                  -1  2    517632  ultralytics.nn.modules.C2f                   [576, 192, 2]                 \n",
      " 16                  -1  1    332160  ultralytics.nn.modules.Conv                  [192, 192, 3, 2]              \n",
      " 17            [-1, 12]  1         0  ultralytics.nn.modules.Concat                [1]                           \n",
      " 18                  -1  2   1846272  ultralytics.nn.modules.C2f                   [576, 384, 2]                 \n",
      " 19                  -1  1   1327872  ultralytics.nn.modules.Conv                  [384, 384, 3, 2]              \n",
      " 20             [-1, 9]  1         0  ultralytics.nn.modules.Concat                [1]                           \n",
      " 21                  -1  2   4207104  ultralytics.nn.modules.C2f                   [960, 576, 2]                 \n",
      " 22        [15, 18, 21]  1   3793066  ultralytics.nn.modules.Detect                [30, [192, 384, 576]]         \n",
      "Model summary: 295 layers, 25873690 parameters, 25873674 gradients, 79.2 GFLOPs\n",
      "\n",
      "Transferred 469/475 items from pretrained weights\n",
      "\u001b[34m\u001b[1mTensorBoard: \u001b[0mStart with 'tensorboard --logdir runs/detect/combined_TRAIN_B16_E30_SZ640_Mm', view at http://localhost:6006/\n",
      "\u001b[34m\u001b[1mAMP: \u001b[0mrunning Automatic Mixed Precision (AMP) checks with YOLOv8n...\n",
      "Downloading https://github.com/ultralytics/assets/releases/download/v0.0.0/yolov8n.pt to yolov8n.pt...\n",
      "100%|██████████████████████████████████████| 6.23M/6.23M [00:00<00:00, 26.4MB/s]\n",
      "\u001b[34m\u001b[1mAMP: \u001b[0mchecks passed ✅\n",
      "\u001b[34m\u001b[1moptimizer:\u001b[0m SGD(lr=0.01) with parameter groups 77 weight(decay=0.0), 84 weight(decay=0.0005), 83 bias\n",
      "\u001b[34m\u001b[1mtrain: \u001b[0mScanning /home/zhou/Desktop/WeedX/merge/weedai_yolo/yolov8/datasets/combi\u001b[0m\n",
      "\u001b[34m\u001b[1mtrain: \u001b[0mWARNING ⚠️ /home/zhou/Desktop/WeedX/merge/weedai_yolo/yolov8/datasets/combined/images/train/0566d6d7078fb100fd20.jpg: ignoring corrupt image/label: non-normalized or out of bounds coordinates [     1.3325       1.075      1.1007      1.6027]\n",
      "\u001b[34m\u001b[1mtrain: \u001b[0mWARNING ⚠️ /home/zhou/Desktop/WeedX/merge/weedai_yolo/yolov8/datasets/combined/images/train/05b5aa4c8b9f35128f98.jpg: ignoring corrupt image/label: non-normalized or out of bounds coordinates [     1.0434       1.114      1.2075      1.2738]\n",
      "\u001b[34m\u001b[1mtrain: \u001b[0mWARNING ⚠️ /home/zhou/Desktop/WeedX/merge/weedai_yolo/yolov8/datasets/combined/images/train/142c2f914ac6a0538a3a.jpg: ignoring corrupt image/label: non-normalized or out of bounds coordinates [     1.1184]\n",
      "\u001b[34m\u001b[1mtrain: \u001b[0mWARNING ⚠️ /home/zhou/Desktop/WeedX/merge/weedai_yolo/yolov8/datasets/combined/images/train/158913c2d7e212716926.jpg: ignoring corrupt image/label: non-normalized or out of bounds coordinates [     1.6228      1.1014       1.306]\n",
      "\u001b[34m\u001b[1mtrain: \u001b[0mWARNING ⚠️ /home/zhou/Desktop/WeedX/merge/weedai_yolo/yolov8/datasets/combined/images/train/15f18f8aeb4e21b6c04d.jpg: ignoring corrupt image/label: non-normalized or out of bounds coordinates [     1.5637      1.6431      1.5985      1.6594      1.5126      1.3488      1.2059      1.0505      1.0157      1.0419      1.0104      1.1312      1.1184      1.1188      1.3441      1.4603]\n",
      "\u001b[34m\u001b[1mtrain: \u001b[0mWARNING ⚠️ /home/zhou/Desktop/WeedX/merge/weedai_yolo/yolov8/datasets/combined/images/train/1b5cdd00351183a57868.jpg: ignoring corrupt image/label: non-normalized or out of bounds coordinates [     1.5331]\n",
      "\u001b[34m\u001b[1mtrain: \u001b[0mWARNING ⚠️ /home/zhou/Desktop/WeedX/merge/weedai_yolo/yolov8/datasets/combined/images/train/2123a6f5e1289e3121d7.jpg: ignoring corrupt image/label: non-normalized or out of bounds coordinates [     1.1896      1.7081]\n",
      "\u001b[34m\u001b[1mtrain: \u001b[0mWARNING ⚠️ /home/zhou/Desktop/WeedX/merge/weedai_yolo/yolov8/datasets/combined/images/train/245c588bb6d73cea139b.jpg: ignoring corrupt image/label: non-normalized or out of bounds coordinates [     1.2575]\n",
      "\u001b[34m\u001b[1mtrain: \u001b[0mWARNING ⚠️ /home/zhou/Desktop/WeedX/merge/weedai_yolo/yolov8/datasets/combined/images/train/25b4cd466ba47ca6d6fc.jpg: ignoring corrupt image/label: non-normalized or out of bounds coordinates [     1.5423       1.547]\n",
      "\u001b[34m\u001b[1mtrain: \u001b[0mWARNING ⚠️ /home/zhou/Desktop/WeedX/merge/weedai_yolo/yolov8/datasets/combined/images/train/25c2e403830bb51b6862.jpg: ignoring corrupt image/label: non-normalized or out of bounds coordinates [     1.0161      1.0071      1.1545      1.1933      1.2202      1.2826      1.2919      1.2884      1.5641      1.6581      1.4063]\n",
      "\u001b[34m\u001b[1mtrain: \u001b[0mWARNING ⚠️ /home/zhou/Desktop/WeedX/merge/weedai_yolo/yolov8/datasets/combined/images/train/279ffe067b9d98af357a.jpg: ignoring corrupt image/label: non-normalized or out of bounds coordinates [     1.2046      1.3946      1.4656      1.7011      1.6585      1.4771      1.1616]\n",
      "\u001b[34m\u001b[1mtrain: \u001b[0mWARNING ⚠️ /home/zhou/Desktop/WeedX/merge/weedai_yolo/yolov8/datasets/combined/images/train/2aaee51e360a0004eef0.jpg: ignoring corrupt image/label: non-normalized or out of bounds coordinates [     1.1638      1.4513      1.0595      1.6938      1.7619]\n",
      "\u001b[34m\u001b[1mtrain: \u001b[0mWARNING ⚠️ /home/zhou/Desktop/WeedX/merge/weedai_yolo/yolov8/datasets/combined/images/train/2b054bcea3ac58bd96f5.jpg: ignoring corrupt image/label: non-normalized or out of bounds coordinates [     1.2493      1.0838]\n",
      "\u001b[34m\u001b[1mtrain: \u001b[0mWARNING ⚠️ /home/zhou/Desktop/WeedX/merge/weedai_yolo/yolov8/datasets/combined/images/train/3300f10b7eee4a69f65c.jpg: ignoring corrupt image/label: non-normalized or out of bounds coordinates [     1.3333]\n",
      "\u001b[34m\u001b[1mtrain: \u001b[0mWARNING ⚠️ /home/zhou/Desktop/WeedX/merge/weedai_yolo/yolov8/datasets/combined/images/train/33ae9edd19bd19e50406.jpg: ignoring corrupt image/label: non-normalized or out of bounds coordinates [     1.0897]\n",
      "\u001b[34m\u001b[1mtrain: \u001b[0mWARNING ⚠️ /home/zhou/Desktop/WeedX/merge/weedai_yolo/yolov8/datasets/combined/images/train/37f8a5046499c4e8faf5.jpg: ignoring corrupt image/label: non-normalized or out of bounds coordinates [     1.0024]\n",
      "\u001b[34m\u001b[1mtrain: \u001b[0mWARNING ⚠️ /home/zhou/Desktop/WeedX/merge/weedai_yolo/yolov8/datasets/combined/images/train/38ea9033a602c196f694.jpg: ignoring corrupt image/label: non-normalized or out of bounds coordinates [     1.1768]\n",
      "\u001b[34m\u001b[1mtrain: \u001b[0mWARNING ⚠️ /home/zhou/Desktop/WeedX/merge/weedai_yolo/yolov8/datasets/combined/images/train/3c5f3701652386e92fd8.jpg: ignoring corrupt image/label: non-normalized or out of bounds coordinates [     1.7013      1.0181      1.1146]\n",
      "\u001b[34m\u001b[1mtrain: \u001b[0mWARNING ⚠️ /home/zhou/Desktop/WeedX/merge/weedai_yolo/yolov8/datasets/combined/images/train/40be49c292d50a4efc8f.jpg: ignoring corrupt image/label: non-normalized or out of bounds coordinates [     1.7432       1.101      1.0331      1.0176]\n",
      "\u001b[34m\u001b[1mtrain: \u001b[0mWARNING ⚠️ /home/zhou/Desktop/WeedX/merge/weedai_yolo/yolov8/datasets/combined/images/train/4392e6cbc046c61b0371.jpg: ignoring corrupt image/label: non-normalized or out of bounds coordinates [     1.0154]\n",
      "\u001b[34m\u001b[1mtrain: \u001b[0mWARNING ⚠️ /home/zhou/Desktop/WeedX/merge/weedai_yolo/yolov8/datasets/combined/images/train/49ecc3000c7e888e8d76.jpg: ignoring corrupt image/label: non-normalized or out of bounds coordinates [     1.0893]\n",
      "\u001b[34m\u001b[1mtrain: \u001b[0mWARNING ⚠️ /home/zhou/Desktop/WeedX/merge/weedai_yolo/yolov8/datasets/combined/images/train/4a39e873a61bc77dd5c1.jpg: ignoring corrupt image/label: non-normalized or out of bounds coordinates [     1.1744]\n",
      "\u001b[34m\u001b[1mtrain: \u001b[0mWARNING ⚠️ /home/zhou/Desktop/WeedX/merge/weedai_yolo/yolov8/datasets/combined/images/train/4e212914d6c4ebb11eb3.jpg: ignoring corrupt image/label: non-normalized or out of bounds coordinates [     1.0223      1.0251      1.0161]\n",
      "\u001b[34m\u001b[1mtrain: \u001b[0mWARNING ⚠️ /home/zhou/Desktop/WeedX/merge/weedai_yolo/yolov8/datasets/combined/images/train/510609110a125e9c2faa.jpg: ignoring corrupt image/label: non-normalized or out of bounds coordinates [     1.4943      1.6076]\n",
      "\u001b[34m\u001b[1mtrain: \u001b[0mWARNING ⚠️ /home/zhou/Desktop/WeedX/merge/weedai_yolo/yolov8/datasets/combined/images/train/53ceee74a007de2348ce.jpg: ignoring corrupt image/label: non-normalized or out of bounds coordinates [     1.0939      1.1997      1.4451]\n",
      "\u001b[34m\u001b[1mtrain: \u001b[0mWARNING ⚠️ /home/zhou/Desktop/WeedX/merge/weedai_yolo/yolov8/datasets/combined/images/train/56ea27afd93a422cfb5e.jpg: ignoring corrupt image/label: non-normalized or out of bounds coordinates [     1.0406      1.2599]\n",
      "\u001b[34m\u001b[1mtrain: \u001b[0mWARNING ⚠️ /home/zhou/Desktop/WeedX/merge/weedai_yolo/yolov8/datasets/combined/images/train/68589e17f42986aaed49.jpg: ignoring corrupt image/label: non-normalized or out of bounds coordinates [     1.2026]\n",
      "\u001b[34m\u001b[1mtrain: \u001b[0mWARNING ⚠️ /home/zhou/Desktop/WeedX/merge/weedai_yolo/yolov8/datasets/combined/images/train/6b7b3f7a2fb7879a926c.jpg: ignoring corrupt image/label: non-normalized or out of bounds coordinates [     1.0225]\n",
      "\u001b[34m\u001b[1mtrain: \u001b[0mWARNING ⚠️ /home/zhou/Desktop/WeedX/merge/weedai_yolo/yolov8/datasets/combined/images/train/6b8d02a4a6a6294c6f05.jpg: ignoring corrupt image/label: non-normalized or out of bounds coordinates [     1.5703      1.5309      1.4793      1.4295      1.4444      1.3349      1.3243       1.101      1.0339      1.0108      1.2934]\n",
      "\u001b[34m\u001b[1mtrain: \u001b[0mWARNING ⚠️ /home/zhou/Desktop/WeedX/merge/weedai_yolo/yolov8/datasets/combined/images/train/75316cd69f2a956346f1.jpg: ignoring corrupt image/label: non-normalized or out of bounds coordinates [     1.0262]\n",
      "\u001b[34m\u001b[1mtrain: \u001b[0mWARNING ⚠️ /home/zhou/Desktop/WeedX/merge/weedai_yolo/yolov8/datasets/combined/images/train/7c8c2693340e62881fc8.jpg: ignoring corrupt image/label: non-normalized or out of bounds coordinates [     1.2229      1.3263]\n",
      "\u001b[34m\u001b[1mtrain: \u001b[0mWARNING ⚠️ /home/zhou/Desktop/WeedX/merge/weedai_yolo/yolov8/datasets/combined/images/train/854af8ac1cad5b7d5363.jpg: ignoring corrupt image/label: non-normalized or out of bounds coordinates [     1.2604]\n",
      "\u001b[34m\u001b[1mtrain: \u001b[0mWARNING ⚠️ /home/zhou/Desktop/WeedX/merge/weedai_yolo/yolov8/datasets/combined/images/train/8a150038631a7a031272.jpg: ignoring corrupt image/label: non-normalized or out of bounds coordinates [     1.2185      1.4323      1.6852]\n",
      "\u001b[34m\u001b[1mtrain: \u001b[0mWARNING ⚠️ /home/zhou/Desktop/WeedX/merge/weedai_yolo/yolov8/datasets/combined/images/train/8da6a95af9a3c6653c06.jpg: ignoring corrupt image/label: non-normalized or out of bounds coordinates [     1.2205]\n",
      "\u001b[34m\u001b[1mtrain: \u001b[0mWARNING ⚠️ /home/zhou/Desktop/WeedX/merge/weedai_yolo/yolov8/datasets/combined/images/train/95d5f2458ef078a3b763.jpg: ignoring corrupt image/label: non-normalized or out of bounds coordinates [     1.0677      1.5948       1.752]\n",
      "\u001b[34m\u001b[1mtrain: \u001b[0mWARNING ⚠️ /home/zhou/Desktop/WeedX/merge/weedai_yolo/yolov8/datasets/combined/images/train/9772243c30de3c688aa5.jpg: ignoring corrupt image/label: non-normalized or out of bounds coordinates [      1.653      1.4048]\n",
      "\u001b[34m\u001b[1mtrain: \u001b[0mWARNING ⚠️ /home/zhou/Desktop/WeedX/merge/weedai_yolo/yolov8/datasets/combined/images/train/9d4e7ba46fdec4525495.jpg: ignoring corrupt image/label: non-normalized or out of bounds coordinates [     1.0375      1.2108]\n",
      "\u001b[34m\u001b[1mtrain: \u001b[0mWARNING ⚠️ /home/zhou/Desktop/WeedX/merge/weedai_yolo/yolov8/datasets/combined/images/train/PXL_20220731_002217649.MP.jpg: corrupt JPEG restored and saved\n",
      "\u001b[34m\u001b[1mtrain: \u001b[0mWARNING ⚠️ /home/zhou/Desktop/WeedX/merge/weedai_yolo/yolov8/datasets/combined/images/train/PXL_20220731_002221668.MP.jpg: corrupt JPEG restored and saved\n",
      "\u001b[34m\u001b[1mtrain: \u001b[0mWARNING ⚠️ /home/zhou/Desktop/WeedX/merge/weedai_yolo/yolov8/datasets/combined/images/train/PXL_20220731_002342963.MP.jpg: corrupt JPEG restored and saved\n",
      "\u001b[34m\u001b[1mtrain: \u001b[0mWARNING ⚠️ /home/zhou/Desktop/WeedX/merge/weedai_yolo/yolov8/datasets/combined/images/train/PXL_20220731_002403712.MP.jpg: corrupt JPEG restored and saved\n",
      "\u001b[34m\u001b[1mtrain: \u001b[0mWARNING ⚠️ /home/zhou/Desktop/WeedX/merge/weedai_yolo/yolov8/datasets/combined/images/train/PXL_20220731_002437700.MP.jpg: corrupt JPEG restored and saved\n",
      "\u001b[34m\u001b[1mtrain: \u001b[0mWARNING ⚠️ /home/zhou/Desktop/WeedX/merge/weedai_yolo/yolov8/datasets/combined/images/train/PXL_20220731_002512085.MP.jpg: corrupt JPEG restored and saved\n",
      "\u001b[34m\u001b[1mtrain: \u001b[0mWARNING ⚠️ /home/zhou/Desktop/WeedX/merge/weedai_yolo/yolov8/datasets/combined/images/train/PXL_20220731_002612399.MP.jpg: corrupt JPEG restored and saved\n",
      "\u001b[34m\u001b[1mtrain: \u001b[0mWARNING ⚠️ /home/zhou/Desktop/WeedX/merge/weedai_yolo/yolov8/datasets/combined/images/train/PXL_20220731_002647390.MP.jpg: corrupt JPEG restored and saved\n",
      "\u001b[34m\u001b[1mtrain: \u001b[0mWARNING ⚠️ /home/zhou/Desktop/WeedX/merge/weedai_yolo/yolov8/datasets/combined/images/train/PXL_20220731_002718892.MP.jpg: corrupt JPEG restored and saved\n",
      "\u001b[34m\u001b[1mtrain: \u001b[0mWARNING ⚠️ /home/zhou/Desktop/WeedX/merge/weedai_yolo/yolov8/datasets/combined/images/train/PXL_20220731_002727281.MP.jpg: corrupt JPEG restored and saved\n",
      "\u001b[34m\u001b[1mtrain: \u001b[0mWARNING ⚠️ /home/zhou/Desktop/WeedX/merge/weedai_yolo/yolov8/datasets/combined/images/train/PXL_20220731_002759785.MP.jpg: corrupt JPEG restored and saved\n",
      "\u001b[34m\u001b[1mtrain: \u001b[0mWARNING ⚠️ /home/zhou/Desktop/WeedX/merge/weedai_yolo/yolov8/datasets/combined/images/train/PXL_20220731_002829054.MP.jpg: corrupt JPEG restored and saved\n",
      "\u001b[34m\u001b[1mtrain: \u001b[0mWARNING ⚠️ /home/zhou/Desktop/WeedX/merge/weedai_yolo/yolov8/datasets/combined/images/train/PXL_20220731_002954487.MP.jpg: corrupt JPEG restored and saved\n",
      "\u001b[34m\u001b[1mtrain: \u001b[0mWARNING ⚠️ /home/zhou/Desktop/WeedX/merge/weedai_yolo/yolov8/datasets/combined/images/train/PXL_20220731_003131494.MP.jpg: corrupt JPEG restored and saved\n",
      "\u001b[34m\u001b[1mtrain: \u001b[0mWARNING ⚠️ /home/zhou/Desktop/WeedX/merge/weedai_yolo/yolov8/datasets/combined/images/train/PXL_20220731_003151781.MP.jpg: corrupt JPEG restored and saved\n",
      "\u001b[34m\u001b[1mtrain: \u001b[0mWARNING ⚠️ /home/zhou/Desktop/WeedX/merge/weedai_yolo/yolov8/datasets/combined/images/train/PXL_20220731_003155782.MP.jpg: corrupt JPEG restored and saved\n",
      "\u001b[34m\u001b[1mtrain: \u001b[0mWARNING ⚠️ /home/zhou/Desktop/WeedX/merge/weedai_yolo/yolov8/datasets/combined/images/train/PXL_20220731_003239810.MP.jpg: corrupt JPEG restored and saved\n",
      "\u001b[34m\u001b[1mtrain: \u001b[0mWARNING ⚠️ /home/zhou/Desktop/WeedX/merge/weedai_yolo/yolov8/datasets/combined/images/train/PXL_20220731_003243749.MP.jpg: corrupt JPEG restored and saved\n",
      "\u001b[34m\u001b[1mtrain: \u001b[0mWARNING ⚠️ /home/zhou/Desktop/WeedX/merge/weedai_yolo/yolov8/datasets/combined/images/train/PXL_20220731_003357522.MP.jpg: corrupt JPEG restored and saved\n",
      "\u001b[34m\u001b[1mtrain: \u001b[0mWARNING ⚠️ /home/zhou/Desktop/WeedX/merge/weedai_yolo/yolov8/datasets/combined/images/train/PXL_20220731_003420558.MP.jpg: corrupt JPEG restored and saved\n",
      "\u001b[34m\u001b[1mtrain: \u001b[0mWARNING ⚠️ /home/zhou/Desktop/WeedX/merge/weedai_yolo/yolov8/datasets/combined/images/train/PXL_20220731_003600897.MP.jpg: corrupt JPEG restored and saved\n",
      "\u001b[34m\u001b[1mtrain: \u001b[0mWARNING ⚠️ /home/zhou/Desktop/WeedX/merge/weedai_yolo/yolov8/datasets/combined/images/train/PXL_20220731_003700630.MP.jpg: corrupt JPEG restored and saved\n",
      "\u001b[34m\u001b[1mtrain: \u001b[0mWARNING ⚠️ /home/zhou/Desktop/WeedX/merge/weedai_yolo/yolov8/datasets/combined/images/train/PXL_20220731_004126404.MP.jpg: corrupt JPEG restored and saved\n",
      "\u001b[34m\u001b[1mtrain: \u001b[0mWARNING ⚠️ /home/zhou/Desktop/WeedX/merge/weedai_yolo/yolov8/datasets/combined/images/train/PXL_20220731_004204166.MP.jpg: corrupt JPEG restored and saved\n",
      "\u001b[34m\u001b[1mtrain: \u001b[0mWARNING ⚠️ /home/zhou/Desktop/WeedX/merge/weedai_yolo/yolov8/datasets/combined/images/train/PXL_20220731_004307750.MP.jpg: corrupt JPEG restored and saved\n",
      "\u001b[34m\u001b[1mtrain: \u001b[0mWARNING ⚠️ /home/zhou/Desktop/WeedX/merge/weedai_yolo/yolov8/datasets/combined/images/train/PXL_20220731_004320337.MP.jpg: corrupt JPEG restored and saved\n",
      "\u001b[34m\u001b[1mtrain: \u001b[0mWARNING ⚠️ /home/zhou/Desktop/WeedX/merge/weedai_yolo/yolov8/datasets/combined/images/train/PXL_20220731_004413357.MP.jpg: corrupt JPEG restored and saved\n",
      "\u001b[34m\u001b[1mtrain: \u001b[0mWARNING ⚠️ /home/zhou/Desktop/WeedX/merge/weedai_yolo/yolov8/datasets/combined/images/train/PXL_20220731_004418460.MP.jpg: corrupt JPEG restored and saved\n",
      "\u001b[34m\u001b[1mtrain: \u001b[0mWARNING ⚠️ /home/zhou/Desktop/WeedX/merge/weedai_yolo/yolov8/datasets/combined/images/train/PXL_20220731_004423121.MP.jpg: corrupt JPEG restored and saved\n",
      "\u001b[34m\u001b[1mtrain: \u001b[0mWARNING ⚠️ /home/zhou/Desktop/WeedX/merge/weedai_yolo/yolov8/datasets/combined/images/train/PXL_20220731_004450387.MP.jpg: corrupt JPEG restored and saved\n",
      "\u001b[34m\u001b[1mtrain: \u001b[0mWARNING ⚠️ /home/zhou/Desktop/WeedX/merge/weedai_yolo/yolov8/datasets/combined/images/train/PXL_20220731_004510469.MP.jpg: corrupt JPEG restored and saved\n",
      "\u001b[34m\u001b[1mtrain: \u001b[0mWARNING ⚠️ /home/zhou/Desktop/WeedX/merge/weedai_yolo/yolov8/datasets/combined/images/train/PXL_20220731_004522856.MP.jpg: corrupt JPEG restored and saved\n",
      "\u001b[34m\u001b[1mtrain: \u001b[0mWARNING ⚠️ /home/zhou/Desktop/WeedX/merge/weedai_yolo/yolov8/datasets/combined/images/train/PXL_20220731_004525557.MP.jpg: corrupt JPEG restored and saved\n",
      "\u001b[34m\u001b[1mtrain: \u001b[0mWARNING ⚠️ /home/zhou/Desktop/WeedX/merge/weedai_yolo/yolov8/datasets/combined/images/train/PXL_20220731_004528554.MP.jpg: corrupt JPEG restored and saved\n",
      "\u001b[34m\u001b[1mtrain: \u001b[0mWARNING ⚠️ /home/zhou/Desktop/WeedX/merge/weedai_yolo/yolov8/datasets/combined/images/train/PXL_20220731_004542684.MP.jpg: corrupt JPEG restored and saved\n",
      "\u001b[34m\u001b[1mtrain: \u001b[0mWARNING ⚠️ /home/zhou/Desktop/WeedX/merge/weedai_yolo/yolov8/datasets/combined/images/train/PXL_20220731_004549057.MP.jpg: corrupt JPEG restored and saved\n",
      "\u001b[34m\u001b[1mtrain: \u001b[0mWARNING ⚠️ /home/zhou/Desktop/WeedX/merge/weedai_yolo/yolov8/datasets/combined/images/train/PXL_20220731_004606149.MP.jpg: corrupt JPEG restored and saved\n",
      "\u001b[34m\u001b[1mtrain: \u001b[0mWARNING ⚠️ /home/zhou/Desktop/WeedX/merge/weedai_yolo/yolov8/datasets/combined/images/train/PXL_20220731_004623253.MP.jpg: corrupt JPEG restored and saved\n",
      "\u001b[34m\u001b[1mtrain: \u001b[0mWARNING ⚠️ /home/zhou/Desktop/WeedX/merge/weedai_yolo/yolov8/datasets/combined/images/train/PXL_20220731_005049956.MP.jpg: corrupt JPEG restored and saved\n",
      "\u001b[34m\u001b[1mtrain: \u001b[0mWARNING ⚠️ /home/zhou/Desktop/WeedX/merge/weedai_yolo/yolov8/datasets/combined/images/train/ab766dd475067883b5a9.jpg: ignoring corrupt image/label: non-normalized or out of bounds coordinates [     1.1285      1.3071      1.3986       1.565      1.5653]\n",
      "\u001b[34m\u001b[1mtrain: \u001b[0mWARNING ⚠️ /home/zhou/Desktop/WeedX/merge/weedai_yolo/yolov8/datasets/combined/images/train/b38b30464941532f7c95.jpg: ignoring corrupt image/label: non-normalized or out of bounds coordinates [     1.0919      1.2884      1.4696      1.5553      1.3519      1.7632]\n",
      "\u001b[34m\u001b[1mtrain: \u001b[0mWARNING ⚠️ /home/zhou/Desktop/WeedX/merge/weedai_yolo/yolov8/datasets/combined/images/train/b434b5c6457176149a89.jpg: ignoring corrupt image/label: non-normalized or out of bounds coordinates [     1.4237]\n",
      "\u001b[34m\u001b[1mtrain: \u001b[0mWARNING ⚠️ /home/zhou/Desktop/WeedX/merge/weedai_yolo/yolov8/datasets/combined/images/train/b5be33a808d7decfed22.jpg: ignoring corrupt image/label: non-normalized or out of bounds coordinates [     1.3091]\n",
      "\u001b[34m\u001b[1mtrain: \u001b[0mWARNING ⚠️ /home/zhou/Desktop/WeedX/merge/weedai_yolo/yolov8/datasets/combined/images/train/b687b106b649dc20c886.jpg: ignoring corrupt image/label: non-normalized or out of bounds coordinates [     1.2145]\n",
      "\u001b[34m\u001b[1mtrain: \u001b[0mWARNING ⚠️ /home/zhou/Desktop/WeedX/merge/weedai_yolo/yolov8/datasets/combined/images/train/bdb1dbe3927737eb0900.jpg: ignoring corrupt image/label: non-normalized or out of bounds coordinates [     1.0862      1.1958]\n",
      "\u001b[34m\u001b[1mtrain: \u001b[0mWARNING ⚠️ /home/zhou/Desktop/WeedX/merge/weedai_yolo/yolov8/datasets/combined/images/train/c180bce84dd09f3409f6.jpg: ignoring corrupt image/label: non-normalized or out of bounds coordinates [      1.373      1.2432]\n",
      "\u001b[34m\u001b[1mtrain: \u001b[0mWARNING ⚠️ /home/zhou/Desktop/WeedX/merge/weedai_yolo/yolov8/datasets/combined/images/train/c48103940a466e916fd8.jpg: ignoring corrupt image/label: non-normalized or out of bounds coordinates [     1.4389]\n",
      "\u001b[34m\u001b[1mtrain: \u001b[0mWARNING ⚠️ /home/zhou/Desktop/WeedX/merge/weedai_yolo/yolov8/datasets/combined/images/train/c52bbc7addd08f2a3249.jpg: ignoring corrupt image/label: non-normalized or out of bounds coordinates [     1.2862]\n",
      "\u001b[34m\u001b[1mtrain: \u001b[0mWARNING ⚠️ /home/zhou/Desktop/WeedX/merge/weedai_yolo/yolov8/datasets/combined/images/train/cce324f1c0004646ae8c.jpg: ignoring corrupt image/label: non-normalized or out of bounds coordinates [     1.4261      1.0368      1.3183      1.2714      1.0143]\n",
      "\u001b[34m\u001b[1mtrain: \u001b[0mWARNING ⚠️ /home/zhou/Desktop/WeedX/merge/weedai_yolo/yolov8/datasets/combined/images/train/d26f364d3e4add2bb135.jpg: ignoring corrupt image/label: non-normalized or out of bounds coordinates [     1.0974      1.6925]\n",
      "\u001b[34m\u001b[1mtrain: \u001b[0mWARNING ⚠️ /home/zhou/Desktop/WeedX/merge/weedai_yolo/yolov8/datasets/combined/images/train/d3b3171b7a507ddb4d8e.jpg: ignoring corrupt image/label: non-normalized or out of bounds coordinates [     1.0097      1.1232      1.0913      1.1636      1.2454      1.2149      1.4206       1.433      1.3695      1.5278       1.612      1.7013      1.7271      1.7643      1.6876      1.6268      1.6083      1.2337]\n",
      "\u001b[34m\u001b[1mtrain: \u001b[0mWARNING ⚠️ /home/zhou/Desktop/WeedX/merge/weedai_yolo/yolov8/datasets/combined/images/train/d9f9b5ad28897c958c86.jpg: ignoring corrupt image/label: non-normalized or out of bounds coordinates [     1.0789      1.1197      1.0461      1.2954      1.2451]\n",
      "\u001b[34m\u001b[1mtrain: \u001b[0mWARNING ⚠️ /home/zhou/Desktop/WeedX/merge/weedai_yolo/yolov8/datasets/combined/images/train/de8f09b9f8df06e45fde.jpg: ignoring corrupt image/label: non-normalized or out of bounds coordinates [     1.2791      1.2577      1.1775      1.1043      1.0816]\n",
      "\u001b[34m\u001b[1mtrain: \u001b[0mWARNING ⚠️ /home/zhou/Desktop/WeedX/merge/weedai_yolo/yolov8/datasets/combined/images/train/edcb616e483e0f3ecde4.jpg: ignoring corrupt image/label: non-normalized or out of bounds coordinates [     1.2158      1.2537      1.0798      1.4568       1.584      1.7211      1.7094      1.7679      1.7286]\n",
      "\u001b[34m\u001b[1mtrain: \u001b[0mWARNING ⚠️ /home/zhou/Desktop/WeedX/merge/weedai_yolo/yolov8/datasets/combined/images/train/ee01643bdb69384cb480.jpg: ignoring corrupt image/label: non-normalized or out of bounds coordinates [     1.3825      1.3677]\n",
      "\u001b[34m\u001b[1mtrain: \u001b[0mWARNING ⚠️ /home/zhou/Desktop/WeedX/merge/weedai_yolo/yolov8/datasets/combined/images/train/ee1ee6b239a60601f40c.jpg: ignoring corrupt image/label: non-normalized or out of bounds coordinates [     1.0483      1.2068      1.4916      1.6797       1.735      1.7527      1.7449      1.1124      1.4788]\n",
      "\u001b[34m\u001b[1mtrain: \u001b[0mWARNING ⚠️ /home/zhou/Desktop/WeedX/merge/weedai_yolo/yolov8/datasets/combined/images/train/ee23fc7262c53fa09c09.jpg: ignoring corrupt image/label: non-normalized or out of bounds coordinates [     1.2826]\n",
      "\u001b[34m\u001b[1mtrain: \u001b[0mWARNING ⚠️ /home/zhou/Desktop/WeedX/merge/weedai_yolo/yolov8/datasets/combined/images/train/f17f4b9eb57c33ef67c6.jpg: ignoring corrupt image/label: non-normalized or out of bounds coordinates [     1.5884      1.3448       1.511      1.0725      1.1561      1.2385]\n"
     ]
    },
    {
     "name": "stdout",
     "output_type": "stream",
     "text": [
      "\u001b[34m\u001b[1mtrain: \u001b[0mNew cache created: /home/zhou/Desktop/WeedX/merge/weedai_yolo/yolov8/datasets/combined/labels/train.cache\n",
      "\u001b[34m\u001b[1mval: \u001b[0mScanning /home/zhou/Desktop/WeedX/merge/weedai_yolo/yolov8/datasets/combine\u001b[0m\n",
      "\u001b[34m\u001b[1mtrain: \u001b[0mWARNING ⚠️ /home/zhou/Desktop/WeedX/merge/weedai_yolo/yolov8/datasets/combined/images/train/0566d6d7078fb100fd20.jpg: ignoring corrupt image/label: non-normalized or out of bounds coordinates [     1.3325       1.075      1.1007      1.6027]\n",
      "\u001b[34m\u001b[1mtrain: \u001b[0mWARNING ⚠️ /home/zhou/Desktop/WeedX/merge/weedai_yolo/yolov8/datasets/combined/images/train/05b5aa4c8b9f35128f98.jpg: ignoring corrupt image/label: non-normalized or out of bounds coordinates [     1.0434       1.114      1.2075      1.2738]\n",
      "\u001b[34m\u001b[1mtrain: \u001b[0mWARNING ⚠️ /home/zhou/Desktop/WeedX/merge/weedai_yolo/yolov8/datasets/combined/images/train/142c2f914ac6a0538a3a.jpg: ignoring corrupt image/label: non-normalized or out of bounds coordinates [     1.1184]\n",
      "\u001b[34m\u001b[1mtrain: \u001b[0mWARNING ⚠️ /home/zhou/Desktop/WeedX/merge/weedai_yolo/yolov8/datasets/combined/images/train/158913c2d7e212716926.jpg: ignoring corrupt image/label: non-normalized or out of bounds coordinates [     1.6228      1.1014       1.306]\n",
      "\u001b[34m\u001b[1mtrain: \u001b[0mWARNING ⚠️ /home/zhou/Desktop/WeedX/merge/weedai_yolo/yolov8/datasets/combined/images/train/15f18f8aeb4e21b6c04d.jpg: ignoring corrupt image/label: non-normalized or out of bounds coordinates [     1.5637      1.6431      1.5985      1.6594      1.5126      1.3488      1.2059      1.0505      1.0157      1.0419      1.0104      1.1312      1.1184      1.1188      1.3441      1.4603]\n",
      "\u001b[34m\u001b[1mtrain: \u001b[0mWARNING ⚠️ /home/zhou/Desktop/WeedX/merge/weedai_yolo/yolov8/datasets/combined/images/train/1b5cdd00351183a57868.jpg: ignoring corrupt image/label: non-normalized or out of bounds coordinates [     1.5331]\n",
      "\u001b[34m\u001b[1mtrain: \u001b[0mWARNING ⚠️ /home/zhou/Desktop/WeedX/merge/weedai_yolo/yolov8/datasets/combined/images/train/2123a6f5e1289e3121d7.jpg: ignoring corrupt image/label: non-normalized or out of bounds coordinates [     1.1896      1.7081]\n",
      "\u001b[34m\u001b[1mtrain: \u001b[0mWARNING ⚠️ /home/zhou/Desktop/WeedX/merge/weedai_yolo/yolov8/datasets/combined/images/train/245c588bb6d73cea139b.jpg: ignoring corrupt image/label: non-normalized or out of bounds coordinates [     1.2575]\n",
      "\u001b[34m\u001b[1mtrain: \u001b[0mWARNING ⚠️ /home/zhou/Desktop/WeedX/merge/weedai_yolo/yolov8/datasets/combined/images/train/25b4cd466ba47ca6d6fc.jpg: ignoring corrupt image/label: non-normalized or out of bounds coordinates [     1.5423       1.547]\n",
      "\u001b[34m\u001b[1mtrain: \u001b[0mWARNING ⚠️ /home/zhou/Desktop/WeedX/merge/weedai_yolo/yolov8/datasets/combined/images/train/25c2e403830bb51b6862.jpg: ignoring corrupt image/label: non-normalized or out of bounds coordinates [     1.0161      1.0071      1.1545      1.1933      1.2202      1.2826      1.2919      1.2884      1.5641      1.6581      1.4063]\n",
      "\u001b[34m\u001b[1mtrain: \u001b[0mWARNING ⚠️ /home/zhou/Desktop/WeedX/merge/weedai_yolo/yolov8/datasets/combined/images/train/279ffe067b9d98af357a.jpg: ignoring corrupt image/label: non-normalized or out of bounds coordinates [     1.2046      1.3946      1.4656      1.7011      1.6585      1.4771      1.1616]\n",
      "\u001b[34m\u001b[1mtrain: \u001b[0mWARNING ⚠️ /home/zhou/Desktop/WeedX/merge/weedai_yolo/yolov8/datasets/combined/images/train/2aaee51e360a0004eef0.jpg: ignoring corrupt image/label: non-normalized or out of bounds coordinates [     1.1638      1.4513      1.0595      1.6938      1.7619]\n",
      "\u001b[34m\u001b[1mtrain: \u001b[0mWARNING ⚠️ /home/zhou/Desktop/WeedX/merge/weedai_yolo/yolov8/datasets/combined/images/train/2b054bcea3ac58bd96f5.jpg: ignoring corrupt image/label: non-normalized or out of bounds coordinates [     1.2493      1.0838]\n",
      "\u001b[34m\u001b[1mtrain: \u001b[0mWARNING ⚠️ /home/zhou/Desktop/WeedX/merge/weedai_yolo/yolov8/datasets/combined/images/train/3300f10b7eee4a69f65c.jpg: ignoring corrupt image/label: non-normalized or out of bounds coordinates [     1.3333]\n",
      "\u001b[34m\u001b[1mtrain: \u001b[0mWARNING ⚠️ /home/zhou/Desktop/WeedX/merge/weedai_yolo/yolov8/datasets/combined/images/train/33ae9edd19bd19e50406.jpg: ignoring corrupt image/label: non-normalized or out of bounds coordinates [     1.0897]\n",
      "\u001b[34m\u001b[1mtrain: \u001b[0mWARNING ⚠️ /home/zhou/Desktop/WeedX/merge/weedai_yolo/yolov8/datasets/combined/images/train/37f8a5046499c4e8faf5.jpg: ignoring corrupt image/label: non-normalized or out of bounds coordinates [     1.0024]\n",
      "\u001b[34m\u001b[1mtrain: \u001b[0mWARNING ⚠️ /home/zhou/Desktop/WeedX/merge/weedai_yolo/yolov8/datasets/combined/images/train/38ea9033a602c196f694.jpg: ignoring corrupt image/label: non-normalized or out of bounds coordinates [     1.1768]\n",
      "\u001b[34m\u001b[1mtrain: \u001b[0mWARNING ⚠️ /home/zhou/Desktop/WeedX/merge/weedai_yolo/yolov8/datasets/combined/images/train/3c5f3701652386e92fd8.jpg: ignoring corrupt image/label: non-normalized or out of bounds coordinates [     1.7013      1.0181      1.1146]\n",
      "\u001b[34m\u001b[1mtrain: \u001b[0mWARNING ⚠️ /home/zhou/Desktop/WeedX/merge/weedai_yolo/yolov8/datasets/combined/images/train/40be49c292d50a4efc8f.jpg: ignoring corrupt image/label: non-normalized or out of bounds coordinates [     1.7432       1.101      1.0331      1.0176]\n",
      "\u001b[34m\u001b[1mtrain: \u001b[0mWARNING ⚠️ /home/zhou/Desktop/WeedX/merge/weedai_yolo/yolov8/datasets/combined/images/train/4392e6cbc046c61b0371.jpg: ignoring corrupt image/label: non-normalized or out of bounds coordinates [     1.0154]\n",
      "\u001b[34m\u001b[1mtrain: \u001b[0mWARNING ⚠️ /home/zhou/Desktop/WeedX/merge/weedai_yolo/yolov8/datasets/combined/images/train/49ecc3000c7e888e8d76.jpg: ignoring corrupt image/label: non-normalized or out of bounds coordinates [     1.0893]\n",
      "\u001b[34m\u001b[1mtrain: \u001b[0mWARNING ⚠️ /home/zhou/Desktop/WeedX/merge/weedai_yolo/yolov8/datasets/combined/images/train/4a39e873a61bc77dd5c1.jpg: ignoring corrupt image/label: non-normalized or out of bounds coordinates [     1.1744]\n",
      "\u001b[34m\u001b[1mtrain: \u001b[0mWARNING ⚠️ /home/zhou/Desktop/WeedX/merge/weedai_yolo/yolov8/datasets/combined/images/train/4e212914d6c4ebb11eb3.jpg: ignoring corrupt image/label: non-normalized or out of bounds coordinates [     1.0223      1.0251      1.0161]\n",
      "\u001b[34m\u001b[1mtrain: \u001b[0mWARNING ⚠️ /home/zhou/Desktop/WeedX/merge/weedai_yolo/yolov8/datasets/combined/images/train/510609110a125e9c2faa.jpg: ignoring corrupt image/label: non-normalized or out of bounds coordinates [     1.4943      1.6076]\n",
      "\u001b[34m\u001b[1mtrain: \u001b[0mWARNING ⚠️ /home/zhou/Desktop/WeedX/merge/weedai_yolo/yolov8/datasets/combined/images/train/53ceee74a007de2348ce.jpg: ignoring corrupt image/label: non-normalized or out of bounds coordinates [     1.0939      1.1997      1.4451]\n",
      "\u001b[34m\u001b[1mtrain: \u001b[0mWARNING ⚠️ /home/zhou/Desktop/WeedX/merge/weedai_yolo/yolov8/datasets/combined/images/train/56ea27afd93a422cfb5e.jpg: ignoring corrupt image/label: non-normalized or out of bounds coordinates [     1.0406      1.2599]\n",
      "\u001b[34m\u001b[1mtrain: \u001b[0mWARNING ⚠️ /home/zhou/Desktop/WeedX/merge/weedai_yolo/yolov8/datasets/combined/images/train/68589e17f42986aaed49.jpg: ignoring corrupt image/label: non-normalized or out of bounds coordinates [     1.2026]\n",
      "\u001b[34m\u001b[1mtrain: \u001b[0mWARNING ⚠️ /home/zhou/Desktop/WeedX/merge/weedai_yolo/yolov8/datasets/combined/images/train/6b7b3f7a2fb7879a926c.jpg: ignoring corrupt image/label: non-normalized or out of bounds coordinates [     1.0225]\n",
      "\u001b[34m\u001b[1mtrain: \u001b[0mWARNING ⚠️ /home/zhou/Desktop/WeedX/merge/weedai_yolo/yolov8/datasets/combined/images/train/6b8d02a4a6a6294c6f05.jpg: ignoring corrupt image/label: non-normalized or out of bounds coordinates [     1.5703      1.5309      1.4793      1.4295      1.4444      1.3349      1.3243       1.101      1.0339      1.0108      1.2934]\n",
      "\u001b[34m\u001b[1mtrain: \u001b[0mWARNING ⚠️ /home/zhou/Desktop/WeedX/merge/weedai_yolo/yolov8/datasets/combined/images/train/75316cd69f2a956346f1.jpg: ignoring corrupt image/label: non-normalized or out of bounds coordinates [     1.0262]\n",
      "\u001b[34m\u001b[1mtrain: \u001b[0mWARNING ⚠️ /home/zhou/Desktop/WeedX/merge/weedai_yolo/yolov8/datasets/combined/images/train/7c8c2693340e62881fc8.jpg: ignoring corrupt image/label: non-normalized or out of bounds coordinates [     1.2229      1.3263]\n",
      "\u001b[34m\u001b[1mtrain: \u001b[0mWARNING ⚠️ /home/zhou/Desktop/WeedX/merge/weedai_yolo/yolov8/datasets/combined/images/train/854af8ac1cad5b7d5363.jpg: ignoring corrupt image/label: non-normalized or out of bounds coordinates [     1.2604]\n",
      "\u001b[34m\u001b[1mtrain: \u001b[0mWARNING ⚠️ /home/zhou/Desktop/WeedX/merge/weedai_yolo/yolov8/datasets/combined/images/train/8a150038631a7a031272.jpg: ignoring corrupt image/label: non-normalized or out of bounds coordinates [     1.2185      1.4323      1.6852]\n",
      "\u001b[34m\u001b[1mtrain: \u001b[0mWARNING ⚠️ /home/zhou/Desktop/WeedX/merge/weedai_yolo/yolov8/datasets/combined/images/train/8da6a95af9a3c6653c06.jpg: ignoring corrupt image/label: non-normalized or out of bounds coordinates [     1.2205]\n",
      "\u001b[34m\u001b[1mtrain: \u001b[0mWARNING ⚠️ /home/zhou/Desktop/WeedX/merge/weedai_yolo/yolov8/datasets/combined/images/train/95d5f2458ef078a3b763.jpg: ignoring corrupt image/label: non-normalized or out of bounds coordinates [     1.0677      1.5948       1.752]\n",
      "\u001b[34m\u001b[1mtrain: \u001b[0mWARNING ⚠️ /home/zhou/Desktop/WeedX/merge/weedai_yolo/yolov8/datasets/combined/images/train/9772243c30de3c688aa5.jpg: ignoring corrupt image/label: non-normalized or out of bounds coordinates [      1.653      1.4048]\n",
      "\u001b[34m\u001b[1mtrain: \u001b[0mWARNING ⚠️ /home/zhou/Desktop/WeedX/merge/weedai_yolo/yolov8/datasets/combined/images/train/9d4e7ba46fdec4525495.jpg: ignoring corrupt image/label: non-normalized or out of bounds coordinates [     1.0375      1.2108]\n",
      "\u001b[34m\u001b[1mtrain: \u001b[0mWARNING ⚠️ /home/zhou/Desktop/WeedX/merge/weedai_yolo/yolov8/datasets/combined/images/train/PXL_20220731_002217649.MP.jpg: corrupt JPEG restored and saved\n",
      "\u001b[34m\u001b[1mtrain: \u001b[0mWARNING ⚠️ /home/zhou/Desktop/WeedX/merge/weedai_yolo/yolov8/datasets/combined/images/train/PXL_20220731_002221668.MP.jpg: corrupt JPEG restored and saved\n",
      "\u001b[34m\u001b[1mtrain: \u001b[0mWARNING ⚠️ /home/zhou/Desktop/WeedX/merge/weedai_yolo/yolov8/datasets/combined/images/train/PXL_20220731_002342963.MP.jpg: corrupt JPEG restored and saved\n",
      "\u001b[34m\u001b[1mtrain: \u001b[0mWARNING ⚠️ /home/zhou/Desktop/WeedX/merge/weedai_yolo/yolov8/datasets/combined/images/train/PXL_20220731_002403712.MP.jpg: corrupt JPEG restored and saved\n",
      "\u001b[34m\u001b[1mtrain: \u001b[0mWARNING ⚠️ /home/zhou/Desktop/WeedX/merge/weedai_yolo/yolov8/datasets/combined/images/train/PXL_20220731_002437700.MP.jpg: corrupt JPEG restored and saved\n",
      "\u001b[34m\u001b[1mtrain: \u001b[0mWARNING ⚠️ /home/zhou/Desktop/WeedX/merge/weedai_yolo/yolov8/datasets/combined/images/train/PXL_20220731_002512085.MP.jpg: corrupt JPEG restored and saved\n",
      "\u001b[34m\u001b[1mtrain: \u001b[0mWARNING ⚠️ /home/zhou/Desktop/WeedX/merge/weedai_yolo/yolov8/datasets/combined/images/train/PXL_20220731_002612399.MP.jpg: corrupt JPEG restored and saved\n",
      "\u001b[34m\u001b[1mtrain: \u001b[0mWARNING ⚠️ /home/zhou/Desktop/WeedX/merge/weedai_yolo/yolov8/datasets/combined/images/train/PXL_20220731_002647390.MP.jpg: corrupt JPEG restored and saved\n",
      "\u001b[34m\u001b[1mtrain: \u001b[0mWARNING ⚠️ /home/zhou/Desktop/WeedX/merge/weedai_yolo/yolov8/datasets/combined/images/train/PXL_20220731_002718892.MP.jpg: corrupt JPEG restored and saved\n",
      "\u001b[34m\u001b[1mtrain: \u001b[0mWARNING ⚠️ /home/zhou/Desktop/WeedX/merge/weedai_yolo/yolov8/datasets/combined/images/train/PXL_20220731_002727281.MP.jpg: corrupt JPEG restored and saved\n",
      "\u001b[34m\u001b[1mtrain: \u001b[0mWARNING ⚠️ /home/zhou/Desktop/WeedX/merge/weedai_yolo/yolov8/datasets/combined/images/train/PXL_20220731_002759785.MP.jpg: corrupt JPEG restored and saved\n",
      "\u001b[34m\u001b[1mtrain: \u001b[0mWARNING ⚠️ /home/zhou/Desktop/WeedX/merge/weedai_yolo/yolov8/datasets/combined/images/train/PXL_20220731_002829054.MP.jpg: corrupt JPEG restored and saved\n",
      "\u001b[34m\u001b[1mtrain: \u001b[0mWARNING ⚠️ /home/zhou/Desktop/WeedX/merge/weedai_yolo/yolov8/datasets/combined/images/train/PXL_20220731_002954487.MP.jpg: corrupt JPEG restored and saved\n",
      "\u001b[34m\u001b[1mtrain: \u001b[0mWARNING ⚠️ /home/zhou/Desktop/WeedX/merge/weedai_yolo/yolov8/datasets/combined/images/train/PXL_20220731_003131494.MP.jpg: corrupt JPEG restored and saved\n",
      "\u001b[34m\u001b[1mtrain: \u001b[0mWARNING ⚠️ /home/zhou/Desktop/WeedX/merge/weedai_yolo/yolov8/datasets/combined/images/train/PXL_20220731_003151781.MP.jpg: corrupt JPEG restored and saved\n",
      "\u001b[34m\u001b[1mtrain: \u001b[0mWARNING ⚠️ /home/zhou/Desktop/WeedX/merge/weedai_yolo/yolov8/datasets/combined/images/train/PXL_20220731_003155782.MP.jpg: corrupt JPEG restored and saved\n",
      "\u001b[34m\u001b[1mtrain: \u001b[0mWARNING ⚠️ /home/zhou/Desktop/WeedX/merge/weedai_yolo/yolov8/datasets/combined/images/train/PXL_20220731_003239810.MP.jpg: corrupt JPEG restored and saved\n",
      "\u001b[34m\u001b[1mtrain: \u001b[0mWARNING ⚠️ /home/zhou/Desktop/WeedX/merge/weedai_yolo/yolov8/datasets/combined/images/train/PXL_20220731_003243749.MP.jpg: corrupt JPEG restored and saved\n",
      "\u001b[34m\u001b[1mtrain: \u001b[0mWARNING ⚠️ /home/zhou/Desktop/WeedX/merge/weedai_yolo/yolov8/datasets/combined/images/train/PXL_20220731_003357522.MP.jpg: corrupt JPEG restored and saved\n",
      "\u001b[34m\u001b[1mtrain: \u001b[0mWARNING ⚠️ /home/zhou/Desktop/WeedX/merge/weedai_yolo/yolov8/datasets/combined/images/train/PXL_20220731_003420558.MP.jpg: corrupt JPEG restored and saved\n",
      "\u001b[34m\u001b[1mtrain: \u001b[0mWARNING ⚠️ /home/zhou/Desktop/WeedX/merge/weedai_yolo/yolov8/datasets/combined/images/train/PXL_20220731_003600897.MP.jpg: corrupt JPEG restored and saved\n",
      "\u001b[34m\u001b[1mtrain: \u001b[0mWARNING ⚠️ /home/zhou/Desktop/WeedX/merge/weedai_yolo/yolov8/datasets/combined/images/train/PXL_20220731_003700630.MP.jpg: corrupt JPEG restored and saved\n",
      "\u001b[34m\u001b[1mtrain: \u001b[0mWARNING ⚠️ /home/zhou/Desktop/WeedX/merge/weedai_yolo/yolov8/datasets/combined/images/train/PXL_20220731_004126404.MP.jpg: corrupt JPEG restored and saved\n",
      "\u001b[34m\u001b[1mtrain: \u001b[0mWARNING ⚠️ /home/zhou/Desktop/WeedX/merge/weedai_yolo/yolov8/datasets/combined/images/train/PXL_20220731_004204166.MP.jpg: corrupt JPEG restored and saved\n",
      "\u001b[34m\u001b[1mtrain: \u001b[0mWARNING ⚠️ /home/zhou/Desktop/WeedX/merge/weedai_yolo/yolov8/datasets/combined/images/train/PXL_20220731_004307750.MP.jpg: corrupt JPEG restored and saved\n",
      "\u001b[34m\u001b[1mtrain: \u001b[0mWARNING ⚠️ /home/zhou/Desktop/WeedX/merge/weedai_yolo/yolov8/datasets/combined/images/train/PXL_20220731_004320337.MP.jpg: corrupt JPEG restored and saved\n",
      "\u001b[34m\u001b[1mtrain: \u001b[0mWARNING ⚠️ /home/zhou/Desktop/WeedX/merge/weedai_yolo/yolov8/datasets/combined/images/train/PXL_20220731_004413357.MP.jpg: corrupt JPEG restored and saved\n",
      "\u001b[34m\u001b[1mtrain: \u001b[0mWARNING ⚠️ /home/zhou/Desktop/WeedX/merge/weedai_yolo/yolov8/datasets/combined/images/train/PXL_20220731_004418460.MP.jpg: corrupt JPEG restored and saved\n",
      "\u001b[34m\u001b[1mtrain: \u001b[0mWARNING ⚠️ /home/zhou/Desktop/WeedX/merge/weedai_yolo/yolov8/datasets/combined/images/train/PXL_20220731_004423121.MP.jpg: corrupt JPEG restored and saved\n",
      "\u001b[34m\u001b[1mtrain: \u001b[0mWARNING ⚠️ /home/zhou/Desktop/WeedX/merge/weedai_yolo/yolov8/datasets/combined/images/train/PXL_20220731_004450387.MP.jpg: corrupt JPEG restored and saved\n",
      "\u001b[34m\u001b[1mtrain: \u001b[0mWARNING ⚠️ /home/zhou/Desktop/WeedX/merge/weedai_yolo/yolov8/datasets/combined/images/train/PXL_20220731_004510469.MP.jpg: corrupt JPEG restored and saved\n",
      "\u001b[34m\u001b[1mtrain: \u001b[0mWARNING ⚠️ /home/zhou/Desktop/WeedX/merge/weedai_yolo/yolov8/datasets/combined/images/train/PXL_20220731_004522856.MP.jpg: corrupt JPEG restored and saved\n",
      "\u001b[34m\u001b[1mtrain: \u001b[0mWARNING ⚠️ /home/zhou/Desktop/WeedX/merge/weedai_yolo/yolov8/datasets/combined/images/train/PXL_20220731_004525557.MP.jpg: corrupt JPEG restored and saved\n",
      "\u001b[34m\u001b[1mtrain: \u001b[0mWARNING ⚠️ /home/zhou/Desktop/WeedX/merge/weedai_yolo/yolov8/datasets/combined/images/train/PXL_20220731_004528554.MP.jpg: corrupt JPEG restored and saved\n",
      "\u001b[34m\u001b[1mtrain: \u001b[0mWARNING ⚠️ /home/zhou/Desktop/WeedX/merge/weedai_yolo/yolov8/datasets/combined/images/train/PXL_20220731_004542684.MP.jpg: corrupt JPEG restored and saved\n",
      "\u001b[34m\u001b[1mtrain: \u001b[0mWARNING ⚠️ /home/zhou/Desktop/WeedX/merge/weedai_yolo/yolov8/datasets/combined/images/train/PXL_20220731_004549057.MP.jpg: corrupt JPEG restored and saved\n",
      "\u001b[34m\u001b[1mtrain: \u001b[0mWARNING ⚠️ /home/zhou/Desktop/WeedX/merge/weedai_yolo/yolov8/datasets/combined/images/train/PXL_20220731_004606149.MP.jpg: corrupt JPEG restored and saved\n",
      "\u001b[34m\u001b[1mtrain: \u001b[0mWARNING ⚠️ /home/zhou/Desktop/WeedX/merge/weedai_yolo/yolov8/datasets/combined/images/train/PXL_20220731_004623253.MP.jpg: corrupt JPEG restored and saved\n",
      "\u001b[34m\u001b[1mtrain: \u001b[0mWARNING ⚠️ /home/zhou/Desktop/WeedX/merge/weedai_yolo/yolov8/datasets/combined/images/train/PXL_20220731_005049956.MP.jpg: corrupt JPEG restored and saved\n",
      "\u001b[34m\u001b[1mtrain: \u001b[0mWARNING ⚠️ /home/zhou/Desktop/WeedX/merge/weedai_yolo/yolov8/datasets/combined/images/train/ab766dd475067883b5a9.jpg: ignoring corrupt image/label: non-normalized or out of bounds coordinates [     1.1285      1.3071      1.3986       1.565      1.5653]\n",
      "\u001b[34m\u001b[1mtrain: \u001b[0mWARNING ⚠️ /home/zhou/Desktop/WeedX/merge/weedai_yolo/yolov8/datasets/combined/images/train/b38b30464941532f7c95.jpg: ignoring corrupt image/label: non-normalized or out of bounds coordinates [     1.0919      1.2884      1.4696      1.5553      1.3519      1.7632]\n",
      "\u001b[34m\u001b[1mtrain: \u001b[0mWARNING ⚠️ /home/zhou/Desktop/WeedX/merge/weedai_yolo/yolov8/datasets/combined/images/train/b434b5c6457176149a89.jpg: ignoring corrupt image/label: non-normalized or out of bounds coordinates [     1.4237]\n",
      "\u001b[34m\u001b[1mtrain: \u001b[0mWARNING ⚠️ /home/zhou/Desktop/WeedX/merge/weedai_yolo/yolov8/datasets/combined/images/train/b5be33a808d7decfed22.jpg: ignoring corrupt image/label: non-normalized or out of bounds coordinates [     1.3091]\n",
      "\u001b[34m\u001b[1mtrain: \u001b[0mWARNING ⚠️ /home/zhou/Desktop/WeedX/merge/weedai_yolo/yolov8/datasets/combined/images/train/b687b106b649dc20c886.jpg: ignoring corrupt image/label: non-normalized or out of bounds coordinates [     1.2145]\n",
      "\u001b[34m\u001b[1mtrain: \u001b[0mWARNING ⚠️ /home/zhou/Desktop/WeedX/merge/weedai_yolo/yolov8/datasets/combined/images/train/bdb1dbe3927737eb0900.jpg: ignoring corrupt image/label: non-normalized or out of bounds coordinates [     1.0862      1.1958]\n",
      "\u001b[34m\u001b[1mtrain: \u001b[0mWARNING ⚠️ /home/zhou/Desktop/WeedX/merge/weedai_yolo/yolov8/datasets/combined/images/train/c180bce84dd09f3409f6.jpg: ignoring corrupt image/label: non-normalized or out of bounds coordinates [      1.373      1.2432]\n",
      "\u001b[34m\u001b[1mtrain: \u001b[0mWARNING ⚠️ /home/zhou/Desktop/WeedX/merge/weedai_yolo/yolov8/datasets/combined/images/train/c48103940a466e916fd8.jpg: ignoring corrupt image/label: non-normalized or out of bounds coordinates [     1.4389]\n",
      "\u001b[34m\u001b[1mtrain: \u001b[0mWARNING ⚠️ /home/zhou/Desktop/WeedX/merge/weedai_yolo/yolov8/datasets/combined/images/train/c52bbc7addd08f2a3249.jpg: ignoring corrupt image/label: non-normalized or out of bounds coordinates [     1.2862]\n",
      "\u001b[34m\u001b[1mtrain: \u001b[0mWARNING ⚠️ /home/zhou/Desktop/WeedX/merge/weedai_yolo/yolov8/datasets/combined/images/train/cce324f1c0004646ae8c.jpg: ignoring corrupt image/label: non-normalized or out of bounds coordinates [     1.4261      1.0368      1.3183      1.2714      1.0143]\n",
      "\u001b[34m\u001b[1mtrain: \u001b[0mWARNING ⚠️ /home/zhou/Desktop/WeedX/merge/weedai_yolo/yolov8/datasets/combined/images/train/d26f364d3e4add2bb135.jpg: ignoring corrupt image/label: non-normalized or out of bounds coordinates [     1.0974      1.6925]\n",
      "\u001b[34m\u001b[1mtrain: \u001b[0mWARNING ⚠️ /home/zhou/Desktop/WeedX/merge/weedai_yolo/yolov8/datasets/combined/images/train/d3b3171b7a507ddb4d8e.jpg: ignoring corrupt image/label: non-normalized or out of bounds coordinates [     1.0097      1.1232      1.0913      1.1636      1.2454      1.2149      1.4206       1.433      1.3695      1.5278       1.612      1.7013      1.7271      1.7643      1.6876      1.6268      1.6083      1.2337]\n",
      "\u001b[34m\u001b[1mtrain: \u001b[0mWARNING ⚠️ /home/zhou/Desktop/WeedX/merge/weedai_yolo/yolov8/datasets/combined/images/train/d9f9b5ad28897c958c86.jpg: ignoring corrupt image/label: non-normalized or out of bounds coordinates [     1.0789      1.1197      1.0461      1.2954      1.2451]\n",
      "\u001b[34m\u001b[1mtrain: \u001b[0mWARNING ⚠️ /home/zhou/Desktop/WeedX/merge/weedai_yolo/yolov8/datasets/combined/images/train/de8f09b9f8df06e45fde.jpg: ignoring corrupt image/label: non-normalized or out of bounds coordinates [     1.2791      1.2577      1.1775      1.1043      1.0816]\n",
      "\u001b[34m\u001b[1mtrain: \u001b[0mWARNING ⚠️ /home/zhou/Desktop/WeedX/merge/weedai_yolo/yolov8/datasets/combined/images/train/edcb616e483e0f3ecde4.jpg: ignoring corrupt image/label: non-normalized or out of bounds coordinates [     1.2158      1.2537      1.0798      1.4568       1.584      1.7211      1.7094      1.7679      1.7286]\n",
      "\u001b[34m\u001b[1mtrain: \u001b[0mWARNING ⚠️ /home/zhou/Desktop/WeedX/merge/weedai_yolo/yolov8/datasets/combined/images/train/ee01643bdb69384cb480.jpg: ignoring corrupt image/label: non-normalized or out of bounds coordinates [     1.3825      1.3677]\n",
      "\u001b[34m\u001b[1mtrain: \u001b[0mWARNING ⚠️ /home/zhou/Desktop/WeedX/merge/weedai_yolo/yolov8/datasets/combined/images/train/ee1ee6b239a60601f40c.jpg: ignoring corrupt image/label: non-normalized or out of bounds coordinates [     1.0483      1.2068      1.4916      1.6797       1.735      1.7527      1.7449      1.1124      1.4788]\n",
      "\u001b[34m\u001b[1mtrain: \u001b[0mWARNING ⚠️ /home/zhou/Desktop/WeedX/merge/weedai_yolo/yolov8/datasets/combined/images/train/ee23fc7262c53fa09c09.jpg: ignoring corrupt image/label: non-normalized or out of bounds coordinates [     1.2826]\n",
      "\u001b[34m\u001b[1mtrain: \u001b[0mWARNING ⚠️ /home/zhou/Desktop/WeedX/merge/weedai_yolo/yolov8/datasets/combined/images/train/f17f4b9eb57c33ef67c6.jpg: ignoring corrupt image/label: non-normalized or out of bounds coordinates [     1.5884      1.3448       1.511      1.0725      1.1561      1.2385]\n"
     ]
    },
    {
     "name": "stdout",
     "output_type": "stream",
     "text": [
      "Plotting labels to runs/detect/combined_TRAIN_B16_E30_SZ640_Mm/labels.jpg... \n",
      "Image sizes 640 train, 640 val\n",
      "Using 16 dataloader workers\n",
      "Logging results to \u001b[1mruns/detect/combined_TRAIN_B16_E30_SZ640_Mm\u001b[0m\n",
      "Starting training for 30 epochs...\n",
      "\n",
      "      Epoch    GPU_mem   box_loss   cls_loss   dfl_loss  Instances       Size\n",
      "       1/30      13.5G      1.485      2.686      1.341        135        640: 1\n",
      "                 Class     Images  Instances      Box(P          R      mAP50  m"
     ]
    }
   ],
   "source": [
    "# train YOLOv5m\n",
    "BATCH = 16\n",
    "EPOCHS = 30\n",
    "IMAGE_SIZE = 640 # (should be one of 320, 640, 1280, 1920)\n",
    "MODEL = 'm' # (should be one of 'n', 's', 'm', 'l', 'x' and must be in lower case)\n",
    "\n",
    "# this is the name of your run, and how it will be saved\n",
    "RUN_NAME = f'{YOUR_DATASET}_TRAIN_B{str(BATCH)}_E{str(EPOCHS)}_SZ{str(IMAGE_SIZE)}_M{MODEL}'\n",
    "\n",
    "# avoid making any changes to the below, or check the Ultralytics docs for other commands\n",
    "# !python3 train.py --img {IMAGE_SIZE} --cfg yolov8{MODEL}.yaml --batch {BATCH} --epochs {EPOCHS} --data datasets/{YOUR_DATASET}/weedcoco.yaml --weights yolov8{MODEL}.pt --name {RUN_NAME}\n",
    "!yolo task=detect mode=train model=yolov8{MODEL}.pt imgsz=320 data=\"datasets/{YOUR_DATASET}/weedcoco.yaml\" epochs={EPOCHS} batch={BATCH} name={RUN_NAME}\n"
   ]
  },
  {
   "cell_type": "markdown",
   "metadata": {
    "id": "BY9BG5FG2chA"
   },
   "source": [
    "# Detect\n",
    "This is where you can run the model you've just trained on a sample video or other dataset to see how it goes. The --source flag below accepts videos, folders of images and images. All you need to do is upload these to the YOLOv5 datasets directory and then specify the name/path below."
   ]
  },
  {
   "cell_type": "code",
   "execution_count": null,
   "metadata": {
    "id": "D_k1PVJpwL_f"
   },
   "outputs": [],
   "source": [
    "DETECTION_FILES = '' # e.g. 'test_video.mp4' OR test_image_directory OR test_image.jpg\n",
    "CONFIDENCE_THRESHOLD = 0.50 # this should be between 0 and 1. It changes the cutoff value for a detection. Lower = more sensitive, higher = less sensitive\n",
    "\n",
    "!python detect.py --source datasets/{DETECTION_FILES} --weights runs/train/{RUN_NAME}/weights/best.pt --name {RUN_NAME} --img {IMAGE_SIZE} --conf-thres 0.50"
   ]
  }
 ],
 "metadata": {
  "accelerator": "GPU",
  "colab": {
   "machine_shape": "hm",
   "provenance": []
  },
  "gpuClass": "premium",
  "kernelspec": {
   "display_name": "Python 3 (ipykernel)",
   "language": "python",
   "name": "python3"
  },
  "language_info": {
   "codemirror_mode": {
    "name": "ipython",
    "version": 3
   },
   "file_extension": ".py",
   "mimetype": "text/x-python",
   "name": "python",
   "nbconvert_exporter": "python",
   "pygments_lexer": "ipython3",
   "version": "3.10.6"
  }
 },
 "nbformat": 4,
 "nbformat_minor": 1
}
